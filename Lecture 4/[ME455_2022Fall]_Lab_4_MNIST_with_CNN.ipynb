{
  "cells": [
    {
      "cell_type": "markdown",
      "metadata": {
        "id": "Mz4IYCpSSI4-"
      },
      "source": [
        "# Week 4. MNIST handwritten digit classification with CNN\n",
        "\n",
        "This time, we will implement Convolutional Neural Network(**CNN**) model for MNIST digit classification.\n",
        "\n",
        "First, let's import libraries and load *MNIST* training data to data loaders."
      ]
    },
    {
      "cell_type": "code",
      "execution_count": null,
      "metadata": {
        "id": "j2_cre7tSI4_"
      },
      "outputs": [],
      "source": [
        "import torch\n",
        "import torch.nn as nn\n",
        "import torch.nn.functional as F\n",
        "import torch.optim as optim\n",
        "from torchvision import datasets, transforms\n",
        "from torch.autograd import Variable\n",
        "\n",
        "import numpy as np\n",
        "import matplotlib.pyplot as plt\n",
        "\n",
        "from sys import stdout\n",
        "\n",
        "import os\n",
        "\n",
        "cuda = torch.cuda.is_available()"
      ]
    },
    {
      "cell_type": "code",
      "execution_count": null,
      "metadata": {
        "id": "5iLgqFI6SI5F"
      },
      "outputs": [],
      "source": [
        "batch_size = 32\n",
        "\n",
        "kwargs = {'num_workers': 1, 'pin_memory': True} if cuda else {}\n",
        "\n",
        "# This will automatically download MNIST data into ./data directory\n",
        "train_loader = torch.utils.data.DataLoader(\n",
        "    datasets.MNIST('./data', train=True, download=True,    \n",
        "                   transform=transforms.Compose([\n",
        "                       transforms.ToTensor(),\n",
        "                       transforms.Normalize((0.1307,), (0.3081,))\n",
        "                   ])),\n",
        "    batch_size=batch_size, shuffle=True, **kwargs)  \n",
        "\n",
        "validation_loader = torch.utils.data.DataLoader(\n",
        "    datasets.MNIST('./data', train=False, transform=transforms.Compose([\n",
        "                       transforms.ToTensor(),\n",
        "                       transforms.Normalize((0.1307,), (0.3081,))\n",
        "                   ])),\n",
        "    batch_size=batch_size, shuffle=False, **kwargs)"
      ]
    },
    {
      "cell_type": "markdown",
      "source": [
        "## 1. Convolutional Neural Network - Preliminaries\n",
        "Today, we will implement a **Convolutional Neural Network(CNN)**. **CNN** uses several special operations, which differentiates it from *MLP*. Compared to *MLP*, following operations appear in **CNN**:\n",
        "\n",
        "* Convolutions\n",
        "* Pooling (Max-Pooling / Average-Pooling)\n",
        "\n",
        "In this section, we'll see how those operations work."
      ],
      "metadata": {
        "id": "rKaDALUMyhrR"
      }
    },
    {
      "cell_type": "markdown",
      "source": [
        "### 1.1. Convolutions\n",
        "\n",
        "Convolution is one of the most characteristic features of CNN. *PyTorch* offers several variations of convolutions in `nn.Module`. \n",
        "\n",
        "1. 1D Convolution [`torch.nn.Conv1d(in_channels, out_channels, kernel_size, ...)\n",
        "`](https://pytorch.org/docs/stable/generated/torch.nn.Conv1d.html#torch.nn.Conv1d)\n",
        "\n",
        "2. **2D Convolution** [`torch.nn.Conv2d(in_channels, out_channels, kernel_size, ...)`](https://pytorch.org/docs/stable/generated/torch.nn.Conv2d.html#torch.nn.Conv2d) \n",
        "\n",
        "3. 3D Convolution [`torch.nn.Conv3d(in_channels, out_channels, kernel_size, ...)`](https://pytorch.org/docs/stable/generated/torch.nn.Conv3d.html#torch.nn.Conv3d)\n",
        "\n",
        "**2D Convolution** is widely used for processing **image** data. We will also use `torch.nn.Conv2d` for our implementation, since *MNIST* is an image dataset. Now let's see how it works."
      ],
      "metadata": {
        "id": "_Gr5oBLy1NYp"
      }
    },
    {
      "cell_type": "markdown",
      "source": [
        "In convolution, we have a fixed size arrays**(kernels)** that moves through input data. In `torch.nn.Conv2d`, several parameters are **required**. \n",
        "\n",
        "*   `in_channels`, `out_channels` : Specifies number of input/output channels(**Cᵢₙ, Cₒᵤₜ**).\n",
        "\n",
        "* `kernel_size` : Specifies size of kernel (as *tuple* of *integers (non-square kernel)* or *integer (square kernel)*). \n",
        "\n",
        "\n",
        "If (input/output) channel and kernel sizes are specified, a convolution layer will change dimension of tensors. \n",
        "\n",
        "  $$ B × C_{in} × W_{in} × H_{in} ⟶ B × C_{out} × W_{out} × H_{out} $$\n",
        "\n",
        "\n",
        "\n",
        "- **Cᵢₙ** and **Cₒᵤₜ** will be same as you define in `nn.Conv2d(in_channels, out_channels, ...)`. \n",
        "- **W** and **H** will differ, in accordance to `kernel_size`.\n",
        "\n",
        "  \n",
        "Let's take a look at several examples of `nn.Conv2d` for better understanding."
      ],
      "metadata": {
        "id": "6fmzsllb5BlE"
      }
    },
    {
      "cell_type": "code",
      "source": [
        "B = 5\n",
        "C_in = 1\n",
        "W_in = 20\n",
        "H_in = 10\n",
        "\n",
        "C_out = 5\n",
        "\n",
        "input_tensor = torch.randn(B, C_in, W_in, H_in)\n",
        "\n",
        "conv1 = nn.Conv2d(C_in, C_in, 3)        # Channels are identical. Square kernel of 3x3.\n",
        "conv2 = nn.Conv2d(C_in, C_in, (8, 5))   # Channels are identical. Non-square kernel of 8x5\n",
        "conv3 = nn.Conv2d(C_in, C_out, (8, 5))  # Channels are different. Non-square kernel of 8x5\n",
        "conv4 = nn.Conv2d(C_out, 2*C_out, 2)    # Increase channel dimension by x2.\n",
        "conv5 = nn.Conv2d(2*C_out, 1, (10, 3))    # Reduce channel dimension to 1\n",
        "\n",
        "# Input shape\n",
        "print(\"input_tensor = \", input_tensor.shape)\n",
        "\n",
        "# Single convolution layer with square kernel\n",
        "t1 = conv1(input_tensor)\n",
        "print(\"conv1(input_tensor) = \", t1.shape)\n",
        "\n",
        "# Single convolution layer with non-square kernel\n",
        "t2 = conv2(input_tensor)\n",
        "print(\"conv2(input_tensor) = \", t2.shape)\n",
        "\n",
        "# Single convolution layer, increasing output channel size, non-square kernel\n",
        "t3 = conv3(input_tensor)\n",
        "print(\"conv3(input_tensor) = \", t3.shape)\n",
        "\n",
        "# Sequential convolutions - I\n",
        "t4 = conv4(conv3(input_tensor))\n",
        "print(\"conv4(conv3(input_tensor)) = \", t4.shape)\n",
        "\n",
        "# Reducing channel dimensions\n",
        "t5 = conv5(t4)\n",
        "print(\"conv5(conv4(conv3(input_tensor)) = \", t5.shape)"
      ],
      "metadata": {
        "id": "8hqqw1K-1VT0"
      },
      "execution_count": null,
      "outputs": []
    },
    {
      "cell_type": "markdown",
      "source": [
        "Several advanced options are available for `torch.nn.Conv2d`. *Stride, dilation, padding* can be applied to tensors. Note that we will **NOT** use these options today, but these *might* appear in later part of the course.\n",
        "\n",
        "* `stride` (default = 1). Instead of moving kernel by 1 step, we can skip some steps to reduce dimensions (width / height).\n",
        "\n",
        "* `dilation` (default = 1). Setting this 2 or greater will result in **Atrous Convolution**(=**Dilated Convolution**). \n",
        "\n",
        "* `padding` (default = 0). Setting this 1 or greater will add a zero padding at input tensor. This is usually used to prevent output tensor size from shrinking too quickly. \n",
        "\n",
        "You may refer to following examples for usages."
      ],
      "metadata": {
        "id": "O64Osx1Muea0"
      }
    },
    {
      "cell_type": "code",
      "source": [
        "input_tensor = torch.randn(B, C_in, 11, 11)\n",
        "\n",
        "cnn_normal = nn.Conv2d(C_in, C_out, 2)  # Rectangular kernel of size 2x2\n",
        "cnn_stride = nn.Conv2d(C_in, C_out, 2, stride=2)      # Stride = 2\n",
        "cnn_dilation = nn.Conv2d(C_in, C_out, 2, dilation=2)  # Dilation = 2\n",
        "cnn_padding = nn.Conv2d(C_in, C_out, 2, padding=1)    # Padding = 2\n",
        "\n",
        "t1 = cnn_normal(input_tensor)\n",
        "t2 = cnn_stride(input_tensor)\n",
        "t3 = cnn_dilation(input_tensor)\n",
        "t4 = cnn_padding(input_tensor)\n",
        "\n",
        "print(input_tensor.shape)\n",
        "print(t1.shape)\n",
        "print(t2.shape)\n",
        "print(t3.shape)\n",
        "print(t4.shape)"
      ],
      "metadata": {
        "id": "Y2xtmEl1vA4l"
      },
      "execution_count": null,
      "outputs": []
    },
    {
      "cell_type": "markdown",
      "source": [
        "### 1.2. Pooling\n",
        "\n",
        "In **CNN**, *pooling* operations are widely used together with convolutions. These reduce dimensions of tensors(thereby reduce computational load), as well as help to avoid overfitting.\n",
        "\n",
        "[Average Pooling](https://pytorch.org/docs/stable/generated/torch.nn.AvgPool2d.html) and [Max Pooling](https://pytorch.org/docs/stable/generated/torch.nn.AvgPool2d.html) are two of the widely used pooling operations."
      ],
      "metadata": {
        "id": "_OFQy-2DwFHF"
      }
    },
    {
      "cell_type": "code",
      "source": [
        "maxpool = nn.MaxPool2d(2)   # Max Pooling in 2D. kernel size = 2x2\n",
        "avgpool = nn.AvgPool2d(2)   # Avg Pooling in 2D. kernel size = 2x2\n",
        "\n",
        "# Input Tensor of size 1 x 1 x 4 x 4\n",
        "input_tensor = torch.tensor(np.array([[1, 2, 3, 4],\n",
        "                                      [5, 6, 7, 8],\n",
        "                                      [9, 10, 11, 12],\n",
        "                                      [13, 14, 15, 16]], dtype=np.float32)).unsqueeze(0).unsqueeze(0)\n",
        "                                  \n",
        "\n",
        "print(\"MaxPool(input)\\n\", maxpool(input_tensor), end=\"\\n\\n\")\n",
        "print(\"AvgPool(input)\\n\", avgpool(input_tensor))\n"
      ],
      "metadata": {
        "id": "4vGDqHHZzwgZ"
      },
      "execution_count": null,
      "outputs": []
    },
    {
      "cell_type": "markdown",
      "source": [
        "---\n",
        "## 2. Convolutional Neural Network\n",
        "\n",
        "Let's define our own model. This time, we are using *Convolutional Neural Network*. Since *MNIST* has 2-dimensional data, we are using `nn.Conv2d` in our network definition.\n",
        "\n",
        "Refer to following figure for detailed implementation."
      ],
      "metadata": {
        "id": "qvJUkWaoJ6u5"
      }
    },
    {
      "cell_type": "markdown",
      "source": [
        "> **Task 1. Implement MyCNN class.**\n",
        "\n",
        "- Fill in functions `__init__()` and `__forward__()` of `MyCNN` class to define an **CNN** described below.\n",
        "![MyCNN.png](data:image/png;base64,iVBORw0KGgoAAAANSUhEUgAAA2wAAAKACAYAAADgnfscAAAAAXNSR0IArs4c6QAAAARnQU1BAACxjwv8YQUAAAAJcEhZcwAAFxEAABcRAcom8z8AAG35SURBVHhe7d0J0GVXXff7q6KMhQSQQRmCrRBETYCOMuorUwteBEvfG6mUOF1ebEsGKaR8w2CY9DZKIpNpUcNQb9lCEQaLYACLBANCCEMzytQEQUmASBQSzADsu3+nn39n9er/3mvvc/aw1j7fT9W/+nnO3mePa6+zfr3Pc87/BQAAAAAAAAAAAAAAAAAAsBAVAAAAACA7BDYAAAAAyBSBDQAAAAAyRWADAAAAgEwR2AAAAAAgUwQ2AAAAAMgUgQ0AAAAAMkVgAwAAAIBMEdgAAAAAIFMENgAAAADIFIENAAAAADKVdWDbt2+fNvCYAgAAAIBtUOeffBPQtgY228/TTjtt55Hr7d+//8j0Cy+8cOfRzRw4cKDas2fPkeUed9xx1d69e49afngu9HPMpofTwuVdfvnlO49ez6YDAAAA8NXj5XJGzNsywLf93LVr184j19u9e/eR6ZsGNoWocHlemTCwedvVFthUCoUxmwYAAADAV4+Xyxkxb8MAXyFK+6hQpH8PHjy4M6WqDh06tHrMQtamgc3uqukOmAKV3QXTv3bXzVggO+WUU1b/nnvuuTtTDmsLbHqOtjlm0wEAAAD46vFyOSPmbRjgK4RpH/V2SAWp8G2RCkMKchaONglsCmR2PMNQ2CQMZNqGMMxJON3Y8m1d8fbadAAAAAC+erw8/YjZ7t7YgN1CiPd3TiGbv43uQinkhG/10/L1N1lNy9fjeo7d1VLp+drOJrrDZHebVPZ3X1r/Jiyw6Xhoedomo5+1nRaOLADZdjdtrwKZpofLsm0PA2GbMJDZ39GF+xpON/pdJXZ8QuF0AAAAAMeqx8vTjZgVjNr+Zioc7HtsvjZhEIxLgSUObfpdYcKbX+XdxbJw4lV856mvMLApFOpnBS4LXfrXApMdL7uD1bRuBaVwftHvtrwubJ/1r701M77717QOsW0Ij384HQAAAMCx6vHydCNmDfC1uvhvphQANNBXEGmj56Y2V8FAywmDiH62oBjfhbLwoztO4R0jBSctywtsFvDCv+PSc7Xs+C5SXxbY7FhoXTo2Onb2d2BhqJMwdIb7YGxaeLz1u6qrOJBpP7VcW2Y8XcJ12DqbpgMAAAA4Vj1enmbEHIaErnd1Yvb8dXiBQuxxBbaubDvW3Y82FsYsKCoYKaipLMTFgU00X/yY2F26MEja81VdxcfPlmEBOJ4u8Tp0BzB8W2Y8HQAAAMDR6vHyNCNmLzj0peenNld3fOxulM0fVhxoFCTtDpTCRHx3zmN3ClXaH+2b3WnalAUfC2x23FR298wLbBaIw0Ak9rdqtjwZIrCJ1mV3/bzp8TrsrZt2ZzKeDgAAAOBo9Xh5mhGzN6DvS89v29zwrYFN5a1fYcfuUFkpjMRvnwxpmuYJn6NlWKhalx2nMGBpnywYiRfYxP5+zwKnjod+j0Oc6PFw3hTv/FkA0/Z4020dIW2L/a2dNx0AAADA9erx8jQjZvtbsTHvsNmdL4WCMPCIFyhiCji6+xOGNy2zjQKP9s3Cm8LVJqHNtjPe/pAFtvhYWoCyx+13eytlyLa37XiEvONnAVnr86brd1XI5rM7gvF0AAAAANerx8vTjJgVbLQqDfDXffugnt+2uXaHKQwNxsKcN80Tbm9X9vZDLyB1ZYGmS2DzPhVS22vbrLtyTcfbjoemdwmYtl3x8VNY0zK846vfVSELara8eDoAAACA69Xj5elGzPZ3ZfrX/o5JNIjXAD4VdPTcts21wKTlW0hR8LLHVV7gUNiIA5LdnYrfTqj5tDxND4OOfrbAqGnrsiCzbmCz59u/8V04Y3fHNI/+1TbbMdO/+j1cfrjckAUw746dflfFtE02vzcdAAAAwGH1eHm6EbPCk4UEr+IwYAGorcJgE35AR1wWFvuuIw5fFpaaKgyL6/A+JCTWFtgsQFnpmDdJnQ+VaQpsEh7DLoEtPoYAAAAAfPV4edoRs8KM7mhZgFLpZw3046DTN7CJQlu4bC1DoctCQhw4FHDi7VGIUXBqCk1anqaHYadpH/qyfW5at9i+eIFNLPTFdwc93vnQ83QXLNwG7ZumxcdPwqAcTrfHPOH6AAAAAPjq8TIj5qWx0LfJ39IBAAAAmB+BbWHsbpfu/m16tw8AAADAvAhsC6K3atrbNLm7BgAAAJSPwLYAOoVhNX0yJAAAAICy1ON7AlvpLKjpgzziT7UEAAAAUC4CGwAAAABkisAGAAAAAJkisAEAAABApghsAAAAAJApAhsAAAAAZIrABgAAAACZIrABAAAAQKYIbAAAAACQKQIbAAAAAGSKwAYAAAAAmSKwAQAAAECmCGwAAAAAkCkCGwAAAABkisAGAAAAAJkisAEAAABApghsAAAAAJApAhsAAAAAZIrABgAAAACZIrABAAAAQKYIbAAAAACQKQIbAAAAAGSKwAYAAAAAmSKwAQAAAECmCGwAAAAAkCkCGwAAAABkisAGAAAAAJkisAEAAABApghsAAAAAJApAhsAAAAAZIrABgAAAACZIrABAAAAQKYIbAAAAACQKQIbAAAAAGSKwAYAAAAAmSKwAQAAAECmCGwAAAAAkCkCGwAAAABkisAGAAAAAJkisAEAAABApghsAAAAAJApAhsAAAAAZIrABgAAAACZIrABAAAAQKYIbAAAAACQKQIbAAAAAGSKwAYAAAAAmSKwAQAAAECmCGwAAAAAkCkCGwAAAABkisAGAAAAAJkisAEAAABApghsAAAAAJApAhsAAAAAZIrABgAAAACZIrABAAAAQKYIbAAAAACQKQIbAAAAAGSKwAYAAAAAmSKwAQAAAECmCGwAAAAz0lBs7gKQr/oa5SoFAACYi4WmOQtAvuprlKsUAABgLhaanvb7vz952boB5Ku+RrlKAQAA5mKhyQtUY5etG0C+6muUqxQAAGAuFpq8QDV22boB5Ku+RrlKgSWwF92lFABsC+v3vEA1dtHnAvmrr1GuUmAJ7EV3KQUA28L6PS9QjV30uUD+6muUqxRYAnvR9V6QSyrbDwDYFnP23/S5mJu1wSFraep9WuBeAVvIOinvBbmksv0AgKWwfm3O8vpblU0H5hK206Fqaep9WuBeAVvIOinvBbmksv0AgKWwfm3O8vpblU0H5pJqo31qqe253ieuUmAJrJPyOrCSyvYDAJZizv45tW6bDswl1Ub71FLbc71PXKXAElgn5XVgJZXtBwAsxZz9c2rdNh2YS6qN9qmltud6n7hKgRJYJ7SU8jpalU0HgKVI9XtjVmrdNh2YS6qN9qmltud6n8rbq8v+4+qdn4DtYZ3QUsrraFU2HQCWItXvjVmpddt0YC6pNtqnltqe630qa6++8c3rqlOfd/HOb80+8YlPVI94xCOqu9zlLtVd73rX4uv444+vfuVXfqX60pe+tLOH2DbWCXkdVEmV2g+bjmWx8zpXAXOyduj1eWNXat02HZhLqo32qaW253qfytqrV533r9VDnvKu1b9tPvjBD1Z3v/vdj5y4JdTJJ59c/eu/tu83lsvagddBlVSp/bDpWBY7r3MVMCdrh16fN3al1m3TgbFYGxuyvLassulLU+9TOXulu2uPfvp7V4FN/7b50Ic+VP3Yj/3YkRO3hCKwbTdrB14HVVKl9sOmY1lS532soj0hB3O1f1Vq3TYdGIu1sSHLa8sqm7409T6Vs1d2d82q7S7bEgPbT/3UTxHYtpi1A6+DKqlS+2HTsSyp8z5W0Z6Qg7navyq1bpsOjCXVBvtUalk2fWnqfSpjr8K7a1Ztd9kIbFgaawdeB1VSpfbDpmNZUud9rKI9YQrWzuYsr/2ruk4HxpJqg30qtSybvjT1PpWxV/HdNaumu2xjBrYb3vCG1W1ve9vqbne7W/WABzygeuhDH1o98pGPrB71qEdVP//zP1/9xE/8RHWb29xmNZ/3/HWLwLbdrB14HVRJldoPm45lSZ33sYr2hClYO5uzvPav6jodGEuqDfap1LJs+tLU+5T/Xnl316ya7rKNGdhufetbVw960IOqpz71qdWb3vSm6v3vf3/1xS9+sbr00kurj3zkI9Xznve86oEPfGB1y1ve0n3+ukVg227WDrwOqqRK7YdNx7KkzvtYRXvCFOZq36rUurtOB8aSaoN9KrUsm7409T7lv1dNd9esvLtsQwa2G93oRtUP/uAPru6cPfzhD68e//jHV2eeeWZ17rnnVp///Oerr3/96ztrraorr7yyuuCCC1ahTXfebn/72w92p43Att2sHXgdVEmV2g+bjmVJnfexivaEKczVvlWpdXedDowl1Qb7VGpZNn1p6n3Ke6/a7q5ZeXfZhgxsxx133OqO2ROe8ITq9a9//eorAy677LLqG9/4RnXttddW3/72t6vvfOc7q/V+61vfqq666qrqYx/7WPWc5zxndSfuVre6lbvcvkVgWz7vvJdaXkeq6jodZbHzNld5bUll04ExpdrhmJVad9fpwFhSbbBPpZZl05em3qe89yp1d80qvss2RGD7ru/6rtXdtRNPPLE6/fTTq7//+7+vPvvZz1ZXXHFFdd11161Cmldy+eWXV+ecc071e7/3e9Wd7nQnd/l9i8C2fN55L7W8jlTVdTrKYudtrvLaksqmA2NKtcMxK7XurtOBsaTaYJ9KLcumL029T/nuVZe7a1bxXbYhAtsNbnCD1d0xfaDIP/7jP1Zf+cpXqquvvvrIHbU4pIn9rLtv+ts2vXVSH07iLb9vEdiWz8611wmVUql96DodZUmd17EqtV6bDowp1Q7HrNS6u04HxpJqg30qtSybvjT1PuW7V13vrlmFd9mGCGy3u93tql//9V+v/uZv/mb1t2p6+2MYzkRvgfzqV79afeYzn1ndVbPpelvkwYMHq5e85CXVCSec4C6/bxHYls/OtdcJlVKpfeg6HWVJndexKrVemw5sytrSXOW1b9VQ04F1WRsasry2quo6fWnqfSpvrxTOUoYIbLoztn///uqTn/zk6sNERHfX9HZIhTeFNf376U9/unrHO95Rfe5zn1tNFwU2bQOBDX3YufY6oVIqtQ9dp6MsqfM6VqXWa9OBTVlbmqu89q0aajqwLmtDQ5bXVlVdpy9NvU/l7dVUge3444+vnvnMZ1Zve9vbqi984QurO2n6G7Z3v/vd1Wtf+9rqn/7pn6p/+7d/qy6++OLVJ0bqLptRwPvwhz9cvfSlLyWwoTM7114nVEql9qHrdJQldV7HqtR6bTqwqVRbG6tS6x1qOrCuVBvrU6ll2fRULU29T+Xt1VSBTV+O/djHPrZ68YtfXL3zne+sLrroourNb35z9aIXvajau3dv9Wd/9mfVhRdeuAp0ejwMbPobNgW5M844g79hQ2d2rr1OqpRK7UPX6ShL6ryOVan12nRgU6m2Nlal1jvUdGBdqTbWp1LLsumpWpp6n8rbq6kCmz4h8i53uUt173vfu3rwgx9cPexhD6t+5md+prrnPe9Z7dq1a/XpkY961KOq5z//+dU///M/V1/60pd21l5V//Ef/1G95jWvWX1n2x3veEd3+X2LwLZ8dq69TqqUSu1D1+koS+q8jlWp9dp0YFOptjZWpdY71HRgXak21qdSy7Lp26be5/L2eqrApo/1/+7v/u7qe77ne1afGGml31Xf+73fW93hDneonvKUp1Sf+MQnqq997WtHPjVSwUp34Pbs2VPd+ta3dpfft0oMbOe9/XU7P+Xjuo++dOen6XnntdTyOlLVUNMX59Kzd35YptR5HatS67Xppcmx75Q5+8+5pdraWJVa71DTt97C++gxpdpYn0oty6Zvm3qfy9vrqQJbWynI3eY2t6ke+tCHrj6Y5Otf//rqw0hUurumt1DqEybvfOc7Vze+8Y3dZfStEgPbq/7u1dU5b/rbnd/ycM17n11d+4EX7Pw2Le+8llpeR6oaavriXHJ6VX3xzJ1flid1Xseq1Hptemly7Dtlzv5zbqm2Nlal1tt1eqq23sL76DFZG/LaX99KLcumb5t6n8vb6xwCm+6u3eMe96ie8IQnrD5wxD7OX9/Tpq8AeN3rXrd6C+VNbnKTVbjzltG3Sg1sOl+vy2jgoQHHlW96bj3o2LfzyHTsXHqdUCmV2oehpi+OBgMX1Pv1xTN2HiiLnZe5ymsrqq7TS2N9Z47/4TVX/zm3VFsbq1Lr7To9VVvvSB9NaOvL2pDX/vpWalk2fdvU+7zZXh86dKg65ZRTquOOO251APWvPpBD30kW0u963ObbvXv3KuisI4fAdtOb3rT6xV/8xVUw08f+m//+7/9eff/ay172stU+al69tTJ+/jpVcmDLKbTZgGOOQYedS68TKqVS+zDU9MWxwUChoc3Oy1zltRVV1+mlCfvOnELbnP3n2KytzFltbdibpuo6HQlH9dGEtpC1oSHLa6uqrtO3Tb3Pm+21wsm+fftWwU30r4KK/nYrpN/1uM2ntxFq1fqUxb7mDGz6G7Yf+IEfqO5zn/tUT3/601f7b1+Yre9lu+yyy6o3vvGN1ZOe9KTqR3/0R91lrFulBzZVDqEtHHBMPeiwc+l1QqVUah+Gmr444WCgwAFB6ryNVan1dp1emrjvzCW0Hdt/LuftkdZW5qy2NuxNU3WdjoTC++gxWRsasry2quo6fdvU+zz8XivEaLH6N/w9DmcKcbo715devFLGCGz6oJFb3OIW1UMe8pDqrLPOqt7znvesPr5fQU1fmK2fP/jBD1ZPfepTV+u++c1v7i5n3RorsB08eMFo9YL9Z6/O12Oec/GRgUeX0PatS944Wl19/tNWA42rzjszGHRME9rsXHqdUCmV2oehps/iivPHq3/59cODgIvvUeSAIHXexqrUertOH4vX7w1RXt/ZNbR5/d5Q5fefywhtqbY0ZrWtO7VdXacvgte3DlWF99FjSrWxPpValk1P1bap93mcvdZiLaDprlr4u1Fg09sk+9ILV8oYge2GN7xhdac73an6zd/8zdXH+H/lK19ZhTWV7rLpC7X1yZD6IJLv//7vX92N85azbo0V2GwwMGbtPeNg9cQXffjI76nQZgOBMeub79hfffOClx/5fYrQZufS66RKqdQ+DDV9FvYiPWZ99JFV9fH/ef3vhQwIUudtrEqtt+v0sYT93BgV951dQlvYz41Vx/af5Ye2VFsas9rWndqurtMXIexLx6pC++gxpdpYn0oty6anatvU+zz8Xutv07RYe/ujKJjFb4nU37PZXbg+9KKVMkZgu9nNblb95E/+ZPWMZzxjFdZEd9auvPLK6mMf+1h1+umnVz/+4z+++hj/oT5oJKyxA9spp79vtNKg48zXfrZzaLNBwFX/8MLRSgOOqy8+Z9LQZufS66RKqdQ+DDV9FvYCfdFdxysNBr70l8UNCFLnbaxKrbfr9LGM3X96fWcqtM3Xf5Yd2lJtacxqW3dqu7pOXwT66Fmk2lifSi3LpuNo9TEZ9qjoTpOCWXznzB63E6E6cODAztR+9IKVMnRg06dCHn/88dWpp55avfKVr1yFNLn22murT33qU9WrXvWq6pd/+ZdXoU5vnYyfP0SNHdg0KJiiuoQ2GwBoQDBFTRXa7Fx6nVQpldqHoabPwl6c9WI9RRU0IEidt7Eqtd6u08cyZf/ZNbTN23+WG9pSbWnMalt3aru6Tl8E+uhZpNpYn0oty6bjaPUxGe6o2AeOqBTQTBji7HG9PVJ32NYJbXqxShkysOlTHvVdaj/90z9dnXHGGau3Q+rTIOWb3/xmdd5551WPf/zjq5NOOsl9/lC1lMCmSoW2qQccqilCm51Lr5MqpVL7MNT0WUw9GFAVMiBInbexKrXertPHMnX/2SW0zd9/lhnaUm1pzGpbd2q7bHqqFoE+ehbWhrz217dSy7LpOFp9TIY5KvYWx9NOO23nketpmgJbTGFNz+lLL1QpQwa2W93qVqsPGtG+KWj++7//++rOmr4g+73vfW/1nOc8p7rXve61+vRI7/lD1ZICm+rU5zb/Mf0cAw7VVW/981EHHXYuvU6qlErtw1DTZzHHYED1/hNnHxDYcZ+rvLagGmr6WOboP9v6Tllq/7kpawtzltdGVW3Tuz43VYuwxX30mLz2MkS1tVdvmsqm42j1Mdn8qNj3qzV9r5o+XCT+mH9R+NHq4w8jSdGLVMqQge2EE06o/viP/7h65zvfWf3nf/7navkKbB//+MdX37f2yEc+cvWWyaG+b62puMM2bnGHrVul9mGo6bOYYzCQyf/e2nGfq7y2oBpq+lim7j+5w7Y+awtzltdGVW3Tuz53K2xxHz0ma0NDV1t79aapbDqOVh+TzY6K7pJpEW0fHqI7U94dNvtwkvDtk13ohSpliMCmEKa7aw9/+MNX362msHTNNdeslq/AdtFFF6327f73v7/7/KGLv2Ebr6YIa2Ln0uukSqnUPgw1fRZTDwaOGgjM+2XaqfMyVqXWO9T0sUzZf3YJa7LU/nNTqbYyZqXW3Ta963O3wqx99HLfDplqY32rbXmpddl0HK0+Jpsdlaa7ZyH9bZvuwHl/w+a9hTJFL1YpQwQ2fYCI/i7tiU98YvWRj3xk9Xdr+gh/ueqqq6q3vvWtq4/41ydHes8fusYObN4nlA1VfErkYXYuvU6qlErtw1DTZ2EvzN4nhw1V7ieQzRvWJHVexqrUeoeaPpax+8+yPiUy37AmqbYyZqXW3Ta963O3wmx99HLDmqTaWN9qW15qXTYdR6uPyWZHRWHNDm5c+/Zd33nrDpy+JNum7dq166jpfegFK2WIwKbvXHvWs55VveMd76i++tWvVt/5zndWpdD5rne9a/Ux/ve4xz1WwdN7/tA1dmAbs+LvEmoLa2IDgDHr2O8RGn+wYefS66RKqdQ+DDV9FvbiPGYd8x0/84c1SZ2XsSq13qGmjyXs58aouO9MhTUJ+7mxao7+c1OptjJmpdbdNr3rc7dC2JeOVcf00csOa5JqY32rbXmpddl0HK0+JuUdFb1opWwa2PTR/ApIuoumT4K0O2t6S6T+du3FL35x9ahHPWr1Zdre85tK38/2fd/3fdWNbnSj6qY3vWl185vfvLrFLW5xVOlLt3V3T/No+Zpfzz355JOrL3zhC6vtGNLBgxeMVi846+zV+XrMs6//I/lUWJNvXfLG0erq85+2GmBc9dYzJh9sWDvwOqlSKrUPQ02fxRXnj1f/8huHX/wv/rFgIJBHWJPUeRmrUusdavpYvH5viPL6zi5hTbx+b6ias//cVKqtjFmpdbdN7/rcreD1rUOV20cvP6xJqo31rbbl2bRU4Wj1MSnvqOiFK2WTwKYgpU99fNKTnlR99KMfXS1Pd9b0lshLLrmkesUrXlH97M/+bHX729++1weNaF59qfb97ne/1Xe2PeEJT6ie//znV2efffbqu91U+j63v/zLv6z+4A/+YHVH8hGPeET1gAc8oLrzne+8upv5pS99abU9pXjV3736yGBD1SWsje2a9z77yEBj6sGGtQWvEyulUvsw1PTFueT06wcBq4FAPmFNUudlrEqtt+v0VJUm7ju7hrWxzdl/bsragteOxq7Uutumd30uNnRMH70dYU1SbaxvtS3PpqUKR6uPSXlHRS9eKZsEtlve8pbVL/3SL60+AfLzn//8ann2Vkh9UqTCVOptkApn+tASu5Om+RW6HvjAB66C4Jlnnrn6IBNt5xVXXFF94xvfqL7+9a+v/v3yl79cvf3tb69e8pKXVM985jOr3/qt36r0oS26o3fppZeutqcU4aAjh7Am4YBj6sGGtQ+vEyulUvsw1PTFCQcDmYU1SZ2XsSq13q7TU1WasO/MJazJnP3npqwteO1o7Eqtu2161+diQ0f10dsT1iTVxvpW2/JsGvqpj1l5R23swHbb29529UXYr3/9648EpG9/+9uru20KUD/3cz935G2KTaW3VN7xjndc3anTd7j99m//dnXWWWetvmT7wx/+cPW5z32uuuyyy1YhTcsO6Xd9fYDmueCCC1Zf1q3l6E6bvgOuJDboyCWsiQ045hhsWPvwOrFSKrUPQ01fHBsMZBjWJHVexqrUertOXxrrO3MKazJn/7mpVFsas1Lrbpve9bnY0JE+enlhzdrI0OW1R1XbdJuGfupjVt5RGzuw3eEOd1h92Ii+FPtrX/vaankKUe973/uqxz3ucdW9733v1d+Z6e/Pbne7263mv8td7nKkdCft7ne/++r72X7nd36nesYznrF62+MnPvGJ6r/+67+q6667brU8K31FwNVXX726u6bp+kJuvfVR87/lLW9ZvW3ybne72yq0ffGLX1xtTyk06MhxwDHX9wRZG/M6sVIqtQ9DTV8cDQYyHgikzstYlVpv1+lLk2PfKXP2n5tKtaUxK7Xutuk2LVXYUOZ99Ca89jJEee1V1TbdpqGf+piVd9TGDmwKR695zWtWIUrhShSsPvCBD1S/Xzc2/S3ZPe95z+phD3vY6iP/9aXaf/VXf1X99V//9erfl7/85dWrX/3q6vzzz1/dlfvsZz+7ulOnDy/RWytDWq7upunDRHTn7d3vfnf1hje8oXruc59bnXrqqat1nHjiiau3VuptkWN8SuSYznv763Z+ysd1H33pzk/TszbmdWKlVGofhpq+OJeevfNDnlLnZaxKrbfr9KXJse+UOfvPFGsLc5bXRlWbTLdpqcKGMu+jN2FtxGtf61RqeW3TbRr6qY9ZeUdt7MCmu2NvfvObV8uxgKVg9ZnPfKbav39/9fSnP30V1J73vOdVr33ta1d/16a7YSp9gqTq05/+9OrunO6e6RMmFfyuvPLK1d+naZrNe/HFF6/+Xk0BUX+z9id/8ierUKigpq8+uM1tbrP6Gzhtlz4lsrTAhqNZG/M6sVIqtQ9DTce0UudlrEqtt+t0wNrCnOW1UdUm020asK629rVOpZbXNt2moZ/6mJV31MYObCeccEJ1zjnnHHnLoii46Q6ZApfelqgPI9Hfk+nti/o7NE1T6ZMkwztzRl+0rS8QVxD8wz/8w9WXiP/u7/5u9djHPrb6hV/4hVUY01spf+iHfmj1N3R6u6U+0v8GN7jB6qsAtF1jfQ8bpmNtzOvESqnUPgw1HdNKnZexKrXertOBVFsZs1Lr3mS6TQPW1da+1qnU8tqm2zT0Ux+z8o7a2IHt+OOPr174whdWn/zkJ1dvV1RoU2Czu232c/yY7qQpsOnv0PQWyE996lOr7dDfvunDRv7iL/6ievKTn7z6SgC9pVJ/C6cv3tYXdCug2fqbviqAwFY+O5deJ1ZKpfZhqOmYVuq8jFWp9dr0VAHWFrx2NHal1r3JdJsGrKutfa1TqeXZ9LZCP/UxK++ojR3Y9F1pv/qrv7r6mzR9UmNXevuj7rj9y7/8yyqg/emf/ukqoOmDRx796EdXP/zDP7z6Yuyb3OQmq7tn9qXY4V20tiKwlc/OpdfBlVKpfRhqOqaVOi9jVWq9Nj1VgLUFrx2NXal1bzLdpgHramtf61RqeTa9rdBPfczyPWrf+OZ1bimweY+HNgls+psxfdDHr/3ar63uiil86S6ZPjxEd9z0lkfdSdNdNH1QyMGDB1fT9b1qL33pS1d/26a/cdOnRN73vvddfVjIj/zIj6wCmre+rkVgK5+dS6+DK6VS+9B1eqowLTvu3jkbs1LrtelASqotjVmpdW8y3aYB62prX+tUank2HcOpj2e+R/St7/vyKpx1rVedd32Y2SSw2Zde6wu09dZFfWH10572tOqVr3zl6m2SX/3qV6uvfOUrq0+B1Kc5/tEf/dFq+oMe9KDVc/T2xpvd7GbVjW9849UdNC1L38vW9FbHrkVgK5+dS6+DK6VS+9B1eqowLTvu3jkbs1LrtelASqotjVmpdW8y3aYB62prX+tUank2HcOpj2e+R1R3zU593sVuOIvr0U9/71F32TYJbFYKWQpg+rRGfWn1KaecsvrAEN1BU+lDQx784Aevvkj7/ve//+oDQ7zlDFUEtvLZufQ6uFIqtQ9dpyMvqfM2VqXWa9OBlFRbGrNS6+46va2AdVkb8treOpVank3HcOrjmfcR7XqXLby7JkMENpX+tkzBTXfJ9F1oeruk7p6Fd9DsLlqXv0PbpAhs5bNz6XVwpVRqH7pOR15S522sSq3XpgPWFuYsr42qhpreVkATr70MUV5bVXWdjuHUxzPvI9rlLlt8d02GCmw5FYGtfHYuvQ6ulErtQ9fpyEvqvI1VqfXadMDawpzltVHVUNOBdVj7Gbq8tqrqOh3DqY9n/kc0dZctvrsmBDbkyM6l18GVUql96DodeUmdt7EqtV6bDqTaypiVWvdQ04F1pNpX30otz6anCsOpj2f+R7TtLpt3d00IbMiRnUuvAyylUvvQdTrykjpvY1VqvTYdSLWVMSu17qGmA+tIta++lVqeTU8VhlMfzzKOaNNdNu/umhDYkCM7l14HWEql9qHrdOQldd7GqtR6bTqQaitjVmrdQ00H1pFqX30rtTybjunUx7uMI+7dZWu6uyYENuTIzqXXAZZSqX2w6alCXuy8eOd0zArbRFsB1ha8djR2pdY91HRgHan21bdSy7PpmE59vMs54vFdtqa7a0JgQ47sXHodYCmV2gebnirkxc6Ld07HrLBNtBVgbcFrR2NXat1dp6cKWIe1H6/trVOp5dl0TKc+3uUc8fAuW9vdNfngBz9YnXDCCUca1RJq9+7d1ec///mdPUSJ7Fx6HWApldoHm46ypM7rWEV7QVdztVFVat1dp6cKWIe1H6/trVOp5dl0TKc+3mUdcbvL1nZ3TQ4ePFideOKJqwZl35VWcmk/7ne/+1Vf+MIXdvYQJdJ5VHkdYCmV2gebjrKkzutYRXtBV3O1UVVq3V2nA+uyNjRkeW1V1XU6plMf77KOuO6qPf7PPtR6d02uueaa6tJLL129hVAhp/TSflx22WXVdde17zfyZp2c1wGWUql9sOkoS+q8jlW0F3Q1VxtVpdbddTqwLmtDQ5bXVlVdp2M69fEu74inwhqQK+vkvA6wlErtg01HWVLndayivaCrudqoKrXurtOBdaXaWJ9KLcumpwrTqY83RxyYinVyXgdZSqX2waajLKnzOlbRXtDVXG1UlVp31+nAulJtrE+llmXTU4Xp1MebIw5MxTo5r4MspVL7YNNRltR5HatoL+hqrjaqSq2763RgXak21qdSy7LpyEd9PjgjwFSsE/Q6yFIqtQ82HWWx8zZXASnWVrx+Z+xKrbvrdGBdqTbWp1LLsunIR30+OCP6m7jUp06OSZ98ie1gnaDXQZZSqX2w6SiLnbe5CkixtuL1O2NXat02PVXAuqwNee2vb6WWZdORj/p8bO8ZsaCm73TTVwXMQdtg3ytHcFs+6wS9DrKUsn1IFQAMyfoWr18au1LrtumpAtZlbchrf30rtSybjnzU52P7zkgc1KzmYIHNiuC2bNYJeh1kKWX7kCoAGJL1LV6/NHal1m3TgbGk2mCfSi3LpiMf9fnYnjPSFNSs5hAHNiuC2zJZJ+h1kKWU7QMATGnO/jO1bpsOjCXVBvtUalk2Hfmoz8fyz0gqqFnNoSmwWRHclsU6Qa+DLKVsHwBgSnP2n6l123RgLKk22KdSy7LpyEd9PpZ7RroGNas5pAKbFcFtGawT9DrIUsr2AQCmNGf/mVq3TQfGkmqDfSq1LJuOfNTnY5lnREGoa1ArqU593sWrfUOZrBP0OshSyvYBAKY0Z/+ZWrdNB8aSaoN9ypaVKuSjPh/LPiPnvPPf3eDj1Rz63GHTvhDWymadoNeBllK2DwAwpTn7z9S6bTowllQb7FO2rFQhH/X52I4z0iW4zSEV2Ahqy2KdoNeBllK2DwAwpTn7z9S6bTowllQb7FO01/LU52u7zlhbcJtDU2AjqC2TdZJLKACYkvU93gB07Eqt26YDY0m1wT5Fey1Pfb6284x5wW0OcWAjqC2bdZJLKACYkvU93gB07Ar7vrYCxmJtzGuffYv2Wp76fG33GQuD2xwssBHUAABoZoNMbwA6dtm6UwWMxdqY1z77Fu21PPX54oyJwtIcFNAIagAAtLNBpjcAHbts3cBchmz/tOfy1OeLMwYAAPJmg0xvADp22bqBuVgbHLJQjvp8ccYAAEDebJDpBaqxy9YNzMXa4JCFctTnizMGAADyZoNML1CNXbZuAJhD3f/QAwEAgLxZaPIC1dhl6waAOdT9Dz1QF3v37q127dp1pNM+5ZRTqoMHD+5MPezyyy9fzXfcccet5tm9e3d17rnn7kwFAADrstffOQsA5lD3P/RAXSiIWUALg5l+Nnv27FmFtEOHDq1+379//6qDv/DCC1e/AwCA9ej1dO4CgDnU/Q890LoU2BTKRGFOhzIOZwpxuhsHAAAAAH0R2DagMLZv377Vz7qr1hTYdDcOAAAAAPoisK1Jb4XUoTtw4MDOI4ffNhm/JVJ34eK/dQMAAACALghsa1I404eQhBTiFNh0SK3CQAcAAAAAfSivEdh6CD9wJLxzZmFN0+yDSPT2SM1HaAMAAACwDgJbDwpguqumv0uzUGb09kcFtpjCmkIbAAAAAPRFYOtIwUuHyj5kJKYQp4op5Ol58YeRAAAAAEAKga0D+wRI+wh/z2mnnebeYdMXZ+u58R05AAAAAEghsHWgu2qpw6RQp7c+en/DpjAHAAAAAH0R2DqwwOZV+DZIfQiJviTbpunv3ZreQgkAAAAAKXWuqJMFAAAAACA7BDYAAAAAyBSBDQAAAAAyRWADAAAAgEwR2AAAAAAgUwQ2AAAAAMgUgQ0AAAAAMkVgAwAAAIBMEdgAAAAAIFMENgAAAADIFIENAAAAADJFYAMAAACATBHYAAAAACBTBDYAAAAAyBSBDQAAAAAyRWADAAAAgEwR2AAAAAAgUwQ2AAAAAMgUgQ0AAAAAMkVgAwAAAIBMEdgAAAAAIFPZBjZtVljHHXdcddppp1WXX375zhzr0zL27dtX7dmzZ+eR9e3fv7/avXv3ke3Uz+eee+7O1Otpfbt27VrNo3/1+yb27t17ZHmqU045pTp48ODO1OsNvV5Uq3Zjxz08/ocOHdqZo78LL7zwqOU2nSu1Xa0rXK933rvqul5Ru7a2ruvxwIEDO1P6m2u9pdLxsmMVHjP1P5vo2n/pmGt9tt6h+pG2vljXU9jWtW06DkOwZXv7MeZ60Uznwo75kMfeW64qXq7GF+pfNK3pOliH1pPaj7b2uK651ovxLO0a8cZSqk2Mscxc1PuR555os8JORA1HAwU1mHWpcwobnDdI6EvbGDZaDYC07LChax6t0x7Tv/o93L++FNhsoK5Bj37XMsNAO8Z6cbhDCNuO2pV+Vwe2Lg2IVXb+vHOlaVqHzrV+tvOu6yI87310Wa9oHj2uf0X7rHWva671lkrHJ+5XdEz02CYvmjreqf7LzoE9Zudqk7DYpS/WdNs2tRPbNj13Xdp2tR8tR+X1hWOsF2k6FzrORsfe2sgmx17LTb3Wq02ob7X12Dnf5D/DdN1ovdbWwmvKdGmPfc21XoxvadeI1jl02xtjmbmoj3dw9jOizYoPun7fZFCs5+t/k9RZ6aSmGui6tA6V0cXk7YseH5KWFw6iplrvtvHajtqU2qwFkCHoXIbnSr8rnIW0Ps1jgWYI8XrVQWvfNgkGXcy13hJY+4oHX2qHesEektd/xe1L/UjcFvvQ89fpi73XhT60Tg08rG11Xdam60Wajq+Oc0yPbdIH6Jy3tS8NOLWOeMCr56itrMvuRGvbtfz42pV122ObudaL8S3tGtFry9Btb4xl5qI+B87Zz4A2Kz7oGpioYYXUSL0Go8faGrAaWlMDXXeZRtsdLts60JB+jwc82r94YKQBuZYVXygezReup+t60Y/XdtQuwrAhOmeaLw5xOsddBtk2SDdalvc8XRPhdTH0evWcLv9RMtd6t4Edm3jwpeMT/ieNDNl/2Xrjc2ov4OH/rq67Xq3L1peidcbLWne9WlbcPzbx1oth6VzoOIfU7uJ2Juobur5W6rG2/kfr9fqZ+D+QpM96TdO1G2trj1p+fAz0e9t1M8R6kZcSrpE+bVXb3aVfHWOZJar3LTr7mdBmhZ2IGp6CRnzS1ADVkMIXbP2sxzStiU60d7Jl3WWa+LnadjVq6zj1r36PLybtW/i4tx1NNK+OWbjMrutFP3Hb0XHVefKOa9xu7JzE7dijDjQM13pePDgXXSdxWx5yvV7wbzLXepdObUzXt13LOr72ImrH2uh3PR72G/F5aRM+13tBNuH2yLrrbeuLjdqP3RWIrbve+DXG07ZeDEvnQufEaFDZdOx1XtQurc/12oBR22o7z/F/eBm75kJ91mvia7dJW3uM+9F4OzxDrBd5KeEa6dNWu7RPGWOZJar3LTramdBmhaWTowGd9wIcNkQ1vNQLtaQGCessU9SAtL3x/2BoOeH+eBeNWEPUxaMBa9N8Mc0XDnZN1/WiO7WH8Jiq1Jk1/Q+rjrnaj9pv2Om08TokrcfriNRWvLY85Ho1cLfl6Hctt2l5c613yeyFMSxd716Al6H6r6a2JZovbo/rrFfzta3DSvM0XWPrrFfLbBqkdF0vhqNzER53lc5j0+DL+ozUa6XOX7hM9dVhH6LpXjuway7Wdb3GltO0H0bzNLVH0bVp6437Ss9Q60U+dJ50vsLK8Rrp2lbDdWo+bV9Tvz3GMktT71O9VxnSZoUNRI1HjUiN06MXVD1H1eXFVQ1Q1abvMjV40rxxQ1KD0XbbMvSvfm+6ePR8LccLYDE1RC1HDTO8wKTvetFN3HZ0XK0TsWMd07n02oZHnaB1NCE93+uYte6mtjzUetVuLByozVmIGnt/+653qeyFMTz/etuHjo+OiUfHSM9RdTleXv/V1rbi7TF91xtfTx4tx66xuJ8zfder+cLXGE+X9WIYOs46J0bXu9qijn3TW5w0Xc9pe60MB2s6n+pnwj5Ebc9rB3bNebqs13jXrkfzpNqjtl3zxX2lZ8j1Ig8lXSOpthquU9S/6vVM1WSMZZak3veGoz0zbVbcQHQy9HjcMPW4TohOooW6+MTFUoOEPstUo9aydEHEL+r6XdscP1fP0ePe/LpQtO+2/ia6WLROrTteft/1orumtqPz5Q2edQ41TedU57bp2OtcWSBRJxvTefMe13K97Rlyvd5+qe3F16jMtd4laxp8qS/U4/F1rt+t/9ik/9Jx1uMeb3v6rNc0XU8eW25snfVq+7u2o6b1Yjg6FzonMfUBOp8xtVX1HXqenfuuNL/1LWp73nObBqN919t07cZS7VF9pNar/1hp6jNDQ60X+SjlGunbVo36bC3PC59jLLM09X44RzsD2iyvE4kfD1+ojX7WY20v2G2DhD7LtAtCL+be+pouMIn3xZZlDdHbDqN5mo6R9Fkv+mlqO97jcbuxTkfnOmTnWhVPM1q2d97U9uI2MuR69TxvvdqeOFDNtd6laxp8eY/bsQ3bRHxejI69jnNT/9X0gqzn6XH7H1jps96Qd900UXuI5113vX36QW+9GJaOsdfWvMet3XZ5rfSEba7p3GpgGP9nxTrrbbp2Y23tMe5H4+3wDLFe5KWEa2Sdthry2uMYyyxRvR/O2c+Ad4DV4PR4mJT1s9cA9Vhbog4bY6zPMtVY2/7nVfNrm+OBg7cvGoTGDVDzaTvDgZHdJdPF0qTPetFPU9tRZxgGCbtzEZ8DnWMv6KgtxfOGdD3EnaPmV8cVns+h16t5vP3V88I2ONd6t0HT4Mu7zvWYjl1Mj8XXvY5lW/+l5XovjGqLau+hPusN6Rx759mjZcXbu+56ddy6voh768WwdC50TmLqO+K2pse6vFY2Ubu3c2/XVvw8LSvut9ZZ7xDBScu3warR723XzRDrRV5KuEbWaatGy/fa7BjLLFG9H87Zz4A2K+xEdNDVIONGuS6d6C4nu03XDtG22xr7pvvSdNHGhl4vDovbjjpBDeg0sLVj3Vfc3j02eNa69LOtd5N23GW92iet10KSrTcVuNrMtd5SeX2NftbxiV8wu+raf+k8aT02n6039byuvL5Yy9a5thdpnW/bjviFe11eG5xivfDpOOuchHTt67G24N1G51PXR/gaqOCt8xn2IWp/4Wul1hvPsy5tQ5frzGuPm5hrvRjPkq4RPV9lz9d2aPmbjGfGWGZO6vMcnf1MaLPCUsNQoxqiAxWdwE1PonWITWW0zRoEaB/0uP7V7+vui120XoX7NPR6cZiOcXzc1cFZR7aOeHlhhS+49r9KenyI8xmvK6x4ver4bJrWO9X+DrneUnl9jYKrXpzW1bX/EvU51o/ofKw7OPA09cVap/ZR69S6dY0NGZq0XG+gOvZ64fNe19TWwv5gHWHbtT4z7kPstdLWO+Q5t+sstR+ax2uP65prvRjPkq6ReHnqc7Udm4xnxlhmTup9qvcKAAAAAJAdAhsAAAAAZIrABgAAAACZIrABAAAAQKYIbAAAAACQKQIbAAAAAGSKwAYAAAAAmVpMYLPvzQlrU/H3ben7HfrQ/N73C+nb573t6/q9KSGto2m7tO74m+4BAAAAlKPOB05yKIwFnZB9Yd467MsJ4+Dkha82TWFKy9b2xdbZZm87RV96uIBTCwAAAGy1ekxf/qheIScORgo/69xdartj1ZcCXhzAtGxtWxzYtK1eiGujoNb0HK23b8AEAAAAkJdFBDaFlvAukxdkFGDi8KSQFIazPiHHO2xap+5smTiw2XZ569Hywn3osnxte7xPRvPydkgAAACgbMprRQc2hZxwF+ytgGGwEZvPQpECTRjWmp7n0Tx6roUuBSPvuZoehiatU+uPA5uWFW9Ll+WH+xPSfJoGAAAAoGz1uL7skb2CjXYhrDjYGAs+3jwKUWFo6kIBTMtqel54l0v/2nzhutrCVdvyw33xqu++AAAAAMhPPbavR/cFs7tWxu6keaFNIUbT4rcjSnw3LMWClsq7yyXhtoWHWdthgappvanl6/m8HRIAAABYtjoPBEmiMBbOYnosDGwWfizEKNDEYUfTm4JXTGFJyxC70+Wx7dD8YYCysKXHvPDYZflN22v7CgAAAKB89di+3NG9go0qFIcghRoLP8YLNV6I83h3xCyAxbQOL5TZMrTOMFhKl+Xbcz2aLz4mAAAAAMpUdGBTaAnvMinIaHfiENSFgo6eG9+1UvjpeuctpuU1hbKuAdHTFBBFy40DHwAAAIAyKa8VGdgsnIUV38nqy0JbWOuGH7uL5wUrC2zrsOV6oVTBUtMAAAAALEM9vmeEDwAAAAA5IrABAAAAQKYIbAAAAACSDh68oHrIU96VLM2H4RDYAAAAACQR2OZBYAMAAACQZIHtlNPfV5352s8eU3qcwDY8AhsAAACAJALbPAhsAAAAAJIIbPMgsAEAAABIIrDNg8AGAAAAIInANg8CGwAAAIAkAts8CGwAAAAAkghs8yCwAQAAAEgisM2DwAYAAAAgicA2DwIbAAAAgCQC2zwIbAAAAACSCGzzILABAAAASCKwzYPABgAAACCJwDYPAhsAAACAJALbPAhsAAAAAJIIbPMgsAEAAABIIrDNg8AGAAAAIInANg8CGwAAAIAkAts8CGwAAAAAkghs8yCwAQAAAEgisM2DwAYAAAAgicA2DwIbAAAAgKOc9/bXVa/6u1cfVS846+xOge0F+88+5rlaHtZDYAMAAABwjHPe9LerABZXKrDFpeVgfQQ2AAAAAK7XBaHtMc++uNp7xsFVeYHNpj3mORcT1gZEYAMAAADQKAxtT3zRh92wZqXphLVhEdgAAAAAtOoS2ghr4yCwAQAAAEhqC22EtfEQ2AAAAAB04oU2wtq4CGwAAAAAOgtD26nP5QNGxkZgAwAAANBLGNoIa+MisAEAAADozUIbYW1cBDYAAAAAayGsjY/ABgAAAACZIrABAAAAQKYIbAAAAACQKQIbAAAAAGSKwAYAAAAg6VuXvLG68k3PTZbmw3AIbAAAAACSCGzzILABAAAASLLAdtU/vLC6+uJzjik9TmAbHoENAAAAQBKBbR4ENgAAAABJBLZ5ENgAAAAAJBHY5kFgAwAAAJBEYJsHgQ0AAABAEoFtHgQ2AAAAAEkEtnkQ2AAAAAAkEdjmQWADAAAAkERgmweBDQAAAEASgW0eBDYAAAAASQS2eRDYAAAAACQR2OZBYAMAAACQRGCbB4ENAAAAQBKBbR4ENgAAAABJBLZ5ENgAAAAAJBHY5kFgAwAAAJBEYJsHgQ0AAABAEoFtHgQ2AAAAAEkEtnkQ2Aqn02e1a9eunUeX5cCBA0ft5549e3am5G/v3r2rCh06dGi1H/oXAACgFAS2edTjxnrkiEnFAcRqk8ClULDEwHbhhReujo2OWZPU9LnonGjbPDaN0AYAAEpBYJtHPWZsGFFiNBbYhhysLzWw7du3L7lfOpa5BTY7xwqcTXSncKl3RQEAQNmu++hLq2ve++yj6urzn9YpsGm++LlaHtajvEZgmxiBrbsu+6VjmVtg0zZr29vYWyMVSgEAAHJz7QdesApgcaUCW1xaDtanvEZgm9gcgU3rC8u78xPPY9V2l8ijABIvI97XeJ6mv0tr2i87hk1l69PP4bzaFy1PP8dByR63CkOgti9+zAKXKtTn/C41aAMAgGW49gP7jgSvq956ZvXNd+xflRfYbNpV551JWBtQPa6MRpsYXZ8BfVdNA38LFWE4sfWH4UO/h3eELFD13UZ7XhutJ55H227bb9vXVHGA1GPhvoTsOdqPMHRpO8PjpZ/DfbVtCB+z55umtzTqcVUX2hcts28oBgAAmEoY2r55wcvdsGal6YS1YdVjxWAEikk0BZIwMPXVFNiaHg9DhYW6MDR4j3XRtD5jy40DVlNwSS1PvOUZTbPjGgasVLBs2k49X8tpC7SaR9O7aFoPAABATrqENsLaOOqxYsuoFaOwwOYN9tfVFGz0mAWWUHyHSdsTztcWSNpYALGKn9+273o8Di5DBDYLT2FItf0zFhjjipcb7l/TOvsENmlbFgAAQC7aQhthbTz1WLEeLWJSGpzrsPcNQ202DWz6WdsU1qbb5y2rbd/1eBxcpghsFtbCkGXBLF5uGOyaQlnTMW/irQcAACBHXmgjrI2rHivWo0VMqi20rKsp2IQhJRQ+btszljDANL31senxKQJb+LPxAps9pvntmMXbK+F6Upr2GwAAIFdHfxDJnxPWRlaPFaORKkbXJ7DZvKnQ0hRsLBCEd4MsoFhIGDs0xOtXmNFjIf3uhZwugU3Tm+YJ1x0GKTsGEocvC2aqMLBpHeE2ats0T3we+5zfLvsHAACQmzC0EdbGVY8r65ElJtVnQG/BwjtNthyvwqARBhCrmIWPuMKg1YWFsdQy4vU1radroAmXpbJjGy67KbBJvD16vtZrxzF8PNT2uJaZovnCcwUAAFAKC22EtXHV48V6xIitZmElZqEmDiNIszDddtdS4ZG7awAAoGSEtfEprxHYtlxTYLO7ZViPHVcv8BKGAQAA0EU9ZmREDv+tjHb3p+2tl2HhWApt8VsjFdJ0vAhrAAAASKnHjYy0AQAAACBHBDYAAAAAyBSBDQAAAAAyRWADAAAAgEwR2AAAAAAgUwQ2AAAAAMgUgQ0AAAAAMkVgAwAAAIBMEdgAAAAAIFMENgAAAADIFIENADA4vbT0LaAUXvvtUgCwjrr/oAcBAAzLBqh9CiiF1367FACso+4/6EEAAMOyAerTfv/3k2XzAqXo075VtHEAm6j7D3oQAMCwbIDqDV7jsnmBUvRp3yraOIBN1P0HPQgAYFg2QPUGr3HZvEAp+rRvFW0cwCbq/oMeBOs766yzqsc97nHVve51ryMvSHOU1q/t0PYAmJ9dm97gNS6bFyhFn/atoo0D2ETdf9CDoL/zzz+/Oumkk468COVU2i5tH4D52PXoDV7jsnmBUvRp3yraOIBN1P0HPQj6edaznnXkxec+97lP9bKXvax6z3veU1177bU7c0xL69X6tR3aHts2bSeAedh16A1e47J5gVL0ad8q2jiATdT9Bz0IutOdK3vheeYzn7nzaF60XbaN3GkD5mHXoDd4jcvmBUrRp32raOMANlH3H/Qg6M7eBplrWDMW2rS9AKan60/lDV7jsnmBUvRp3yraOIBN1P0HPQi60Qd6qLnobYclsLdH8kEkwPR07am8wWtcNi9Qij7tW0Ubxzaydt+n4KuPDUcH3ehTGNVc9LdiJdB2anu13QCmpWtP5Q1e47J5gVL0ad8q2ji2kbX7PgVffWw4OujGPrpfH/BRAm2ntlfbDWBauvZU3uA1LpsXKEWf9q2ijWMb9blOuEba1ceGo4Nu7GKa69Mg+9J22jYDmJZde94Lc1xcpyhNn/atoo1jG/W5TrhG2tXHhqODbkq8mErcZmAJ7NrzXpjj4jpFafq0bxVtHNuoz3XCNdKuPjYcHXSTzcV0xRVV9YY3VNWTn1xV/+N/6KMrq+o3fmNn4tGy2WZgy9i1570wx8V1itL0ad8q2ji2UZ/rhGukXX1sODroZvaLSd+ppoB2i1toY46uRz96Z6ajzb7NwJaya897YY6L6xSl6dO+VbRxbKM+1wnXSLv62HB00M1sF5MFNa27qQhsQFbs2vNemOPiOkVp+rRvFW0c26jPdcI10q4+NhwddDP5xaS3Puptj1pnqghsvdmx6VNAV9ZmvBfmuGhfKE2f9q2ijWOJrF33Ke/6UNl0+Opjw9FBN5NeTAprCmFaX5cisPVmx6ZPAV1Zm/FemOOifaE0fdq3ijaOJbJ23ae860Nl0+Grjw1HB91MdjFdcklVHX+8Vthcmn766YffLvmhDx0OeI7JtrlAdmy8jjMujiP6on1hyfq0bxVtHEvU5zpIzWvT4auPDUdnLl/+8pd3firDJBeTgldbWNPfsukTIjuaZJsLZcfG6zjj4jiuqbBrfEi0rwlscfuaW5/2raKNT4jrYjJ9roPUvDYdvvrYcHTmoLB28skn7/xWhtEvJoW1pg8X0SdDnnlm4520JqNvc8Hs2HgdZ1wcxzVo0FDYNT4k2tfItrx9za1P+1bRxifCdTGpPteBzZsq+Opjw9GZ2mWXXVbt3r27uIap7R11m/UWRy0/Lt1x63FXLTT6NhfMjo3XscbFceypvsbri/xw+91StK8R0b5m16d9q2jjE+C6mFyf68DmTRV89bHh6EwpDGulHfpRt1l/h+Z9v5oe07Q1lXicp2LHxutY4+I49hAOGrb4mNG+RkL7ykKf9q2ijY+M62IWfa4DroHN1Mdu+46eNZo+NYQ4rA213KmMus3eWyEV1vShIhso8ThPxY6N17HGxXHsKB40bPExo32NgPaVjT7tW0UbHxHXxWz6XAdcA5upj932HT1rNH1qU2FY4w5bRHfQtNy49BbJDZV4nKdix8brWOPiOHYQDBq+c9e7Xt+OtxTta2C0r6z0ad8q2vhIuC5m1ec64BrYTH3stu/oWaPxGlRcNu8m4rCm3225JdbgvL9d0x23nh8w4vG2fwk1BFuW1+7jGnK9ixQNGq7527+9vi2PVZmjfQ2I9pWdPu1bRRsfwRzXhQpH9LkOuAY2Ux+77Tt61mi8BhWXzbsuL6yJLbfEGpz3Mf6veMXOxM1427+EGoIty2v3cQ253sVxBg1Xv+Ut17flsSpztK+B0L6y1Kd9q2jjA5vrulBtEWu3fYtrYHj1sdu+o2eNxmtQcdm862gKa6Xa5Fg00pdka5lh6W/XBri7JqNs84yG3B9bltfu4xpyvYvSMGgYs7SuVWWO9jUA2le2+rRvFW18QDNcFyqtb1VbxNrtkIX11Mdu+46eNRqvU43L5u1raWFN1j0Wrby/XzvppJ2Jmxtlm2c05P7Ysrx2H9eQ610MBg2taF8bon1lrU/7VtHGBzLTdaHSOle1RdZt522F9dTHbvuOnjUar7HFZfP2oS/FtrB24oknLiKsyTrHIklvfdQyw/qN39iZuLlRtnlGQ+6PLctr93ENud5F0Jez2qDhh3+YQYOD9rUB2lf2+rRvFW18ADNeFyqtd1VbhHaej/q4bt+RtQblNba4bN4+CGw9nHnm4Q4wrCc/eWfi5kbZ5hkNuT+2LK/dxzXkehchHDjs2sWA2kH72gDtK3t92reKNj6AGa8Llda7qi1CO89HfVy378hag/IaW1w2b1+8JbIj3U3TMsMa6ANHZJRtntGQ+2PL8tp9XEOudzFmemuO1reqzNG+NkT7ylqf9q2ijQ9kputCpXWuaovQzvNRH9ftO7LWoLzGFpfNu46lhbZNjkUj7xMi3/CGnYmbG2WbZzTk/tiyvHYf15DrXZQZBg9a16oyR/saAO0rW33at4o2PqCZQpvWt6otQjvPR31ct+/IWoPyGltcNu+6mkKbLbfEGoyCmZYXlj4hUp8cORBv+5dQQ7Blee0+riHXuzgNgwf9PmpljvY1ENpXlvq0bxVtfGBzXReqBbF22be8Nq6y6RhefVy378hag/IaW1w27ya80GbLLbEGoy/H1vLCevSjdyYOw9v+JdQQbFleu49ryPUukjN40M+jVuZoXwOifWWnT/tW0cZHMMd1oVoQa5d9y2vjKpuO4dXHdfuOrDWoPrWpOLQNtdwpDbrN3oeNqAZ8O6SUeJynYsfG63Tj4jh2EA0e9O+qthTta2C0r6z0ad8q2vhIuC42sm479qapbDqGVx/X7Tuy1qD61BDC0Dbkcqcy2Dbru9f01kctK6wBv3/NlHicp2LHxut04+I4dhQMHo7UlqJ9jYD2lY0+7VtFGx8R18Xa1m3H3jSVTcfw6uPKkZ1SHNpKMsg2N4U11fnn78w0nBKP81Ts2Hidblwcxx7iwcOWon2NhPaVhT7tW0UbHxnXxVrWbcepwvDq48qRnVoY2kqi7d1omxXImsLagN+9Ftp4mxfMjo3XKcfFcewpHDxsKdrXiGhfs+vTvlW08QlwXfS2bjtOFYZXH1eO7Bz05donn3zyzm9lWPtCvOKKw4FMz/VKb4XUPCNYe5u3gB0br1OOi+O4Bn3Ja2HX+JBoXyPb8vY1tz7tW0UbnwjXRS+043LUx50jPxeFtpL0vlAVwk4/vfmummrEsCa9t3mL2LHxOuW4OI5rKuwaHxLtawJb3L7m1qd9q2jjE+K66Ix2XI76uHPk0U3yQtXfp+nTHxXSFMTagppK8wz4nWue5DZvMTs2XqccF8cRfdG+sGR92reKNo4c0Y7LUR93jjy6SV6oCmqa3qX0fWsj3lkzyW3eYnZs+hTQlbUZ70U/LtoXStOnfato48gR7bgc9XHnyKMbu1CvvfbanUciXQKb7rrpLtwEtJ22zTiWHZs+BXRlbcZ70Y+L9oXS9GnfKto4ckQ7Lkd93Dny6OZe97rX6kJ9z3ves/NIpC2wKajpg0dGfgtkSNup7dV2A5iWrj2V96Ifl80LlKJP+1bRxpEj2nE56uPOkUc3j3vc41YX6ste9rKdRyJeYNPfqelx/X3bxLSd2l5tN4Bp6dpTeS/6cdm8QCn6tG8VbRw5snbZtzC9+rhz5NHNWWedtbpQ73Of++w8EnnDGw7fRVNA09seZwhpIW2ntlfbDWBauvZU3uA1LpsXKEWf9q2ijSNH1i77FqZXH3eOPLo76aSTVhfrM5/5zJ1H8qTt03ZqewFMT9efyhu8xmXzAqXo075VtHEAm6j7D3oQdHf++ecfeeHJNbRZWFNpewFMz65Bb/Aal80LlKJP+1bRxgFsou4/6EHQz7Oe9awjLz5626H+Vkwf8NH46ZEj03q1fm2HvQ1Spe0EMA+7Dr3Ba1w2L1CKPu1bRRsHsIm6/6AHQX+6c2Vvj8yttF3cWQPmZdejN3iNy+YFStGnfato4wA2Ufcf9CBYnz7QQ5/CaB/5P1dp/doOPmAEyINdm97gNS6bFyhFn/atoo0D2ETdf9CDAACGZQNUb/Aal80LlKJP+1bRxgFsou4/6EEAAMOyAao3eI3L5gVK0ad9q2jjADZR9x/0IACAYdkA1Ru8xmXzAqXo075VtHEAm6j7D3oQAMCwbIDqDV7jsnmBUvRp3yraOIBN1P0HPQgAYFg2QPUGr3HZvEAp+rRvFW0cwCbq/oMeBAAwLBugeoPXuGxeoBR92reKNg5gE3X/QQ8CABiWDVC9wWtcNi9Qij7tW0UbB7CJuv+gBwEADMsGqN7gNS6bFyhFn/atoo0D2ETdf9CDAACGZQPUPgWUwmu/XQoA1lH3H/QgAIBh2QC1TwGl8NpvlwKAddT9Bz0IAAAAAOSIwAYAAAAAmSKwAQAAAECmCGwAAABAxvbt27f6O8iwdu/eXV144YU7c6xn79691a5du44s85RTTqkOHjy4M/V6p512WnXccccdWe+55567M2U9+/fvP7JeLVfLv/zyy3emrmeMZeai3qd6rwAAAABkyQKbURCxEHXo0KGdR/tTYLOApmXqdy0zDDp6TCHN1qNgpG3xgl0XCpnaH1uelqPlaz3rGmOZOSGwAQAAABmLA5vRY5ve7YopsCmUiYKP1hGHwj179gwahpr2bxNjLHMu9X4sZE8AAACABfLCh+6C6bH4TpfuvB04cGDnt8M0r0JWl7txmk/rE/2rO1UxBToFu5CeF2+LftfjKU3rGWOZJSKwAQAAABmLA5uCl/7ezLvLpUCjMGWhTWGt69sDLQTac7UOVUxvQYwjhJ6j9VrAirfDo/Vpuv72LA5mMsYyS6S8RmADAAAAMmWBLSyFsKYPHbFgo+cpuHR9+6Lm0/wmvNsW8gKbWMDSc9qCVbg/ms/egukZY5mlqffJOdoAAAAAsmBhxNhdJAWTpr9h03Q9JwxgTbQ8hTUtL7wr1TewiZajaV1DorY/dQdwjGWWpN73hqMNAAAAYHZxYDP6ezXv77TCO2yp4KLwpVCncKbgFtJj3nNTd9jsb9ya7obF9BZPLc97C+MYyyxNvR/bHdi0+2GpISzpexuwPdSpxu1Z7zvv8gfGXahzbnr7ha4XrStc7xI6yG1lL8Rh6cV8qLeX2N9eeP9rK3ox1vpsvd58XeYBmoRtWzX0a78NMD32P/+2Xg2G4/XSpyLWFNi8xy2sWbBRe2oKbZpHz2/qQ/W4xhcxvR6o7w1Zu7e2Gm9HirYjHmOMscwS1fvhnP0tot0PG6lOqhqgOm6gJOpQw05Vg2L97v3PWx/qFMMwGHd84QuBflbpZ11H+hnlscAWnmu1Az22ycdHa3lqG9aWvAGCvTjbuvWvfg/DYpd5gDZx+1Mb2vS1X/2dDWKtjce0Hj1ubVX9tPrPsO+mT4VH7dVrU94dNj0WBxq1HbWz8D9x9XPYHj3WZsPniZYVXy96zIKV0e9h+25i2xI/f4xllqjeD+fsbxHtfjxo0O+bDnKBqanzijsw62g3eZHXIEHXhAbqWpaWGbIBSkjr6/M/YMiLtZv4XKt9bTKg1V0CDTztRTTue8VrN5ovbGNd5gHajPHar+tFz1fb1LK0jpiugaZ+2gaV9KnweG1KbUWPrfsfaU3tNKY2q7ZtoU3rVXtcd2yh1wG1ZXu+XTt6fF1jLDMn9XnqcKYWTLsfd9oakKhTBUriBTZ14upUY5qv7/9Y2aBC/4b0HG8Qr2uI66hMTedaL37x/8R2/Z/cmNf32nrjQYDaph7Xv13mAVK89ue99qsNqy3H7U1tvu0/L5oGwho8xv2stWm7XuhT4bE2FZb65Lif7sNbplXYTtX+1XZtmtrhJn2tnqtl2PK0H/H12NcYy8xJvU/1Xm0x7X54QtUJ63+2eNFHadS5hh2sOnF1WPFgWvSYgpy1c/2b+t9bG1TELw56XjyIF11X8cAEZYjPtV6sdT7VnrygFLYdTdd8qf/VjPtesf+19dj2dJkHSInbX9trv9py2Pbj/tOjZWsdMbterM9USIuvl3B6iD4V2F51f+L0KFtEux+WOkr9z1Y8KAFypxfyuD3rf5ua7nLYoEODAP3bFtYkHsQb7zFhcFEuO9dhaTDrDSLFBqE655ovFdZEy9T8obY2o/m1XV3mAVKsXVulXvsttGkezdsW1kTtVMv1qK8N1x3/R4geo08FEKr7hYYeZUto98NBgzphDXLVgQIl0Qt5+GKuoKa2rcFFU2jTIETXQJcBtg3i44GE95gwuCiXd67tk+2a3gZmg9D4b2+aaN6w75W2NmPb02UeICVuf11e+9W29bzUf26Jlq15Y/YfZdZOFdQsDFpoa2rHbW0fwLLV/YLTo2wR7X7YaYs6TT2+yaehAVPTC7n3Yt40yLaBg73FLDUI0QBC10U8kNBj3nMZXJSr6VzbB8/EdyHCO2xqb5vcYWsKfLY9XeYBUrz21/bab6FKz1FbX/cOm57rLV9t2u5g63n0qQBCdb/g9ChbRLsfd9rS9DiQq6bA5j1uYc0GHTbgbgttTYN4Ldu7VvS/1V0G7shP07n2Ho/bjga9XUKb18fa8mNahx7XneIu8wApXvsT7/H4Dljcf3q0jLidetePCftp+lQAsbrviHqULaPdjztG7rChROELfsi7w6b54sGGfveeb5oGG7p+4jseuoaa/icZ+Ws6194dNrWtOOhrutpSW3hq6nu9/zjQfGrH0mUeIKWp/enxsN9SG1ZbDtu8qP01vT1YtGwtK+Qt34T9tJ5LnwogVPcdUY+yZbT7YaetzlkdJy/8KI0GFWHg0gu8/jdWL/JD3HVoGsTbQELr0s+23rbwh7x551o/6zy3DVL7iPteo8e0Hlu3rTfcli7zAG3Gfu3XsrWOmK6fsK16/TR9KoBY3Z84PcoW0e6HpU5SHao6SKAkejGP23Pbp0T2pQGGlukNiu3unKaHAw2Uyc51WOHf2AxBy/QCm1gg0zwaQHt3FbrMAzSxdm019Gt/U2ATTdP1ZOtWP930jgfbNvpUYLvVfUFDjwIAAAAAmBWBDQAAAAAyRWADAAAAgEwR2AAAAAAgUwQ2AAAAAMgUgQ0AAAAAMkVgAwAAAIBMEdgAAAAAIFPZBTZ9WaS+JFJfhBrS4/riSPuiVJXmOXDgwM4c/elLKPVFsFqO92XAQ9O26gsy7ctiw33lCzEBAAAAxLIKbAot+vZ/hZhDhw7tPHo46FhI82rdwKOQZsuYIrDZuiywiQKjHjvttNN2HgEAAACAw+qsUKeFTCjIxIHm3HPPPRJ09uzZs7orJQpoNr9Kd9/6yiGwiULqVNsAAAAAoBx1TqiTQibs7Y7h3TULM/rXu4sWhjZ7nv0eBqM4nCn82e9hWWgKf9dybNvC0Cg2X9u6wm0My55jdxDXCZ0AAAAAlqvOCXVSyIDdSQv/dk0BTI+pmv5WLZxHby8U+32IwObNF75l0x7bJLApiNpjAAAAAGDqjJBHSrBQ0xZ8mtg89tz4d/GW1bZ8e1x39uyOWjh/33WJN69RUI3nBwAAALDd6oxQp4QM6NMT4zDTFHxiNk/fENW2fHs8vrNnd9z0r9h8mwY2W67dJQQAAACAOiPUKSEDFljCMKM7W3pM1eUtkTaP/T5EYIsfHzuwedMAAAAAbKc6I9QpIQPeHTaxDx0J/7YtpPk1XdXn78qaHjP2uP62LmRvXbQPCLH5UusSb17DHTYAAAAAsToj1CkhAxa84u8jCz/WX6Gu6WP9w+dZqNK/mk9lgVDlBTYLSvZJlPa4lmFB0L4zTWV387quS+wxTRdbl1hgC+cHAAAAsN3qjFCnhAx4nxJpFMY0ranij8MPg5yV3alThaHIPq4/nma/h8+zCrexz7rCIKcK77TZY2GIAwAAALDd6oxQp4RMeN/DZhR8FHjCgKW7Uk1/2xaGPAW68E5dGKL0uAUsLdvu4Nm8mq7n23T9HIeqruvSsu1Omsq2vS2sAgAAANhedU6ok0Im7G5VfMdsDtoOVRi4xmIhril8AgAAANhOdU7IJ7CJ/U3YFEGpjbZhiu3Q8rUehTYAAAAACNVZIa/Aprcb6q2Hqjn/nkuHRTVmYNP+6e2Y2lfvbaAAAAAAtlt2gS0XUwQ2AAAAAGhDYAMAAACATBHYAAAAACBTBDYAAAAAyBSBDQAAAAAyRWADAAAAgEwR2AAAAAAgUwQ2AAAAAMgUgQ0AAAAAMkVgAwAAAIBMEdgAAAAAIFMENgAAAADIFIENAAAAADJFYAMAAACATBHYAAAAACBTBDYAAAAAyBSBDQAAAAAyRWADAAAAgEwR2AAAAAAgUwQ2AAAAAMgUgQ0AAAAAMkVgAwAAAIBMEdgAAAAAIFMENgAAAADIFIENAAAAADJFYAMAAACATBHYAAAAACBTBDYAAAAAyBSBDQAAAAAyRWADAAAAgEwR2AAAAAAgUwQ2AAAAAMgUgQ0AAAAAMkVgAwAAAIBMEdgAAAAAIFMENgAAAADIFIENAAAAADJFYAMAAACATBHYAAAAACBTBDYAAAAAyBSBDQAAAAAyRWADAAAAgEwR2AAAAAAgUwQ2AAAAAMgUgQ0AAAAAMkVgAwAAAIBMEdgAAAAAIFMENgAAAADIFIENAAAAADJFYAMAAACATBHYAAAAACBTBDYAAAAAyBSBDQAAAAAyRWADAAAAgEwR2AAAAAAgUwQ2AAAAAMgUgQ0AAAAAMkVgAwAAAIBMEdgAAAAAIFMENgAAAADIFIENAAAAADJFYAMAAACATBHYAAAAACBTBDYAAAAAyBSBDQAAAAAyRWADAAAAgEwR2AAAAAAgUwQ2AAAAAMgUgQ0AAAAAMkVgAwp24YUX6iJe1Z49e3YeBQAAwFIQ2FAkhRMLKgot24rABgAAsGz1OI/AhvIQ2A4jsAEAACxbPc4jsKE8BLbDCGwAAADLVo/zCGwoD4HtMAIbAADAstXjPAIbytM3sB08eLA65ZRTquOOO271HP27d+/e6tChQztzXO/yyy9fTbN5d+/evXr+vn37jqxTP8f0mOa1efTzgQMHdqYe5gWs00477ah1Ne2Plr9r167VfLb955577jHLAwAAwHLU47x6pAcUpk9gU2iyeeNS8AlDm8JaGLrC+RSQ7PcwsDU9x0qBzMSBLVymVbxN4s1n89rPBDYAAIDlqcd59UgPKEzXwKbgY6FGocqCkJ5jj+vOm2kKRnGFgU2BzB7fv3//6jG7S2eP6w6dhIEtDFtxhctvC5xhEdgAAACWpx7n1SM9oDBdA1sYpuK7VuE0Uciy31UKTXpM9NbDMGBZoAqfo4AWCqfZ/GFgU4UBT8HRHg/DV3j3TvPYfigEhtMIbAAAAMtTj/PqkR5QmK6BLZyvrRSYwjAV3nUzCl02vSmANZW9LTKcX2ErFE4Lw5c9psBoAdI0PQcAAADLUI/z6pEeUJiuga3tb8vC0jLC8GOBLOQFtvBDP9rKwlRbwGqa1jS/tC0PAAAA5avHefVIDyiMwokFFYWWJuF88Vsijd21CsNP/PZGCd9C6d1h854j4V2xtoDVNM0e0ydExviUSAAAgGWrx3n1SA8oTNfAFn7wh+622Yd/iH3Uvz1fv9u8Kvv7MtHP4TQLbAqB4eOazwKa/tUHhoRvr1wnsIV/O6f9CQNmOI3ABgAAsDz1OK8e6QGFCQNbU0kYgprKApvY95x55X3oiKS2JQxS6wS2MHTGRWADAABYtnqcV4/0gMKkQpLKhG9l9Cq+6+bNo7tz3t+wie6yhcEprk3vsOmOmrd8PRZ+5D+BDQAAYHnqcV490gMK0yewif7WS8HJpinshG+HDNlbJW1e/azQ5P0Nm7Hp4R06C3n2FkZZJ7CJlqE7bRbc7O2dbc8BAABA+epxXj3SA7AShquQHg/vcnlBDwAAABgagQ0I6I6Y7mSFb5PU3bnw6wEU3AAAAIApENiAQPxpkF7Fb4cEAAAAxlKPP+sRKIAVvfUxvJsWl+6+AQAAAFOpx6D1KBTAEfYBHxbS2j6gBAAAABgTgQ0AAAAAMkVgAwAAAIBMEdgAAAAAIFMENgAAAADIFIENAAAAADJFYAMAAACATBHYMJ//+ueq+uILq+ozT6qqT/0viqIoiqKoYUtjDI01NOYACkVgwzwufYXfsVIURVEURY1RGnsABSKwYXr6Xy7rPC/7P1X1n++qqq+/n6IoiqIoatjSGENjDRt3cKcNBSKwYXp6a4KFNa9zpSiKoiiKGrIstGkMAhSGwIbp2d+scWeNoiiKoqgpSmMOjT00BgEKQ2DD9NRhqrwOlaIoiqIoaoyy8QdQGAIbpkdgoyiKoihq6iKwoVAENkyPwEZRFEVR1NRFYEOhCGyYHoGNoiiKoqipi8CGQhHYMD0CG0VRFEVRUxeBDYUisGF6BDaKoiiKoqYuAhsKRWDD9AhsFEVRFEVNXQQ2FIrAhukR2CiKoiiKmroIbCgUgQ3TI7BRFEVRFDV1EdhQKAIbpkdgoyiKoihq6iKwoVAENkyPwEZRFEVR1NRFYEOhCGyYHoGNoiiKoqipi8CGQhHYMD0CG0VRFEVRUxeBDYUisGF6BDaKoiiKoqYuAhsKRWDD9AhsFEVRFEVNXQQ2FIrAhukR2CiKoiiKmroIbCgUgQ3TI7BRFEVRFDV1EdhQKAIbpkdgoyiKoihq6iKwoVAENkyPwEZR2dWhj7xJLwhHas+D7+vOt05d+Na/Xi1T/3rTKYqiJikCGwpVv4YS2DAxAlsRdeDsP14NsjWQ96ZvY+39f3/lmOBhQWfXXe5w1LxDlJYbl7bBm3fIUlhrCmzWLqy6BDsCG0VNU3Z9TtFPFFkENhSqvq7rKxuY0hYEtvhuxeoyc+abqixoWO17zhPd+cIisB1bCic6JuFgSMdSYW2swBaeK2tXQ9798qopsFmbsN9te1KDQwJbv4pDsWrd9tV0Lq107rxlq91pvfHj1PTVpy+280ZgaygCGwpVX9fqkYEJLTyw2Yur/g0fH3uQ3VR64Q7X3bR9cfUZJGxL6TjqeK66zZ3HNNgda3CrZYaBTWXrGvO8pAb5YcXHwysCW7/yrr11/1MgdS4JbPkXffGARWBDoeo+QD0yMKEFBza9oOqSigfZuZUGaKkBeSmDBO2HBp22vVbhdltoteBg1TdAaBlajy1LFS43njdcV9gmbDCs7Qqfo/Oix2274uepbD/DbbflWWnd4XNU8fFpG/zr+d4yvLJ1x4/bvoQVbjPVXN615z3WpVLnksCWf6177imnCGwoVN0HqEcGJjRxYNPAQwMSvdipuVvpRdDmsRdE/RzOEw+WU2WDnC4vrBpEta1Lj2m7NKCyecKBlW1zPAi2/Wzb9qZBnK0nrNwHCXYcw2MT7194DMPHvIFqW2l+HXc7LzrG+jkObFp3eF5seviYtRV7zGs7+j0+jzaf/W77Fs6j7Qz3zVu2HTf7Paz4+LWV5ouPY7zd3v6XVtpH7ZMdS6twHh0LnQ+7Nq36XkP2/PB53mMqbVe4rvgYp85l03UQtzPq+rJzoZ/DY++1eZ2v8BzpeNs8Xavp3IcVt7lwW6y6tk/9Hk5XhdOt4nnitqfHtK54feE8kxeBDYWqrx1dPcCEZghs9kJhL0zxYCR8QbEXHXus7UUyrqbBT1yaJxxE2Qtk+GJu2xM/Fr4QaznxACDeN6/i5dr6tc/22Dr7P0fpOMbHPD4G2tf4mKyzf1qPHSP9bOsNB2fh/GFpenjuVLZd9vzw+Kvi59h89ph33sL5rC3Hy1E1PVeVGuRb2TEMl619is9HvD0llvZJ+xAeFz0WXkeapnnC/e96LMOy4xq2p3jdKq0nPPb2vPA4p9bvnS+VlqtlxY9T1x/n8FjH58zavErTwsf6Xgdee2grzRtf7yq1A01ra5/WL4Tb6PWf8e9ee9HvqnD58TUzeRHYUKj6WtIVBkxopsAWvtjFL5zeQMdeuOzFtkvphckb/ITV9OIbv+Dp5/iFLX5x9V4kNb3tBdFefMN9jZer6jtImKu8bY+Pi/Y5Pi/r7J/mt/YQHmdrT7YsaztxabtsWVbaLk3zzln8fFV43tr2QY9rum1b+DwrrdvbJu+YxmXLjecLj4tV2zaUUjpW8b7G7UrT43bmXaOpsvMaVnyeNE+8LlV8/PV7vN1hxftgtc52b0vZ+Qnbs13zmqbfrc3b71beuUyVra9rX9W0ji7tU+0hvn5V3r6E5V3j+j1ue03tbbIisKFQ9fWkKxWY0EyBLXwsfnHxXhDjF+Au5b0gxtX0gmXbZNugn+MX3XjwFW+j/R6+aIZlxyJerrYnfqzvIGGuio+JKj7n3jFfZ/80v9cewnNn5yAe9Oix+Bjb46p4H2ya9xyrtn3Q45oet/WwvPOu8o5pWLaPXjvW8+J9b9uGUkr7Gu9X3K684xa3xS4Vn1etIz7WWrfm8SrcztS5jPfBap3t3pbyrju7Jqx/aGrzeqztmvaq7Tr3qmkdXdqn2oJ+98r2TWXbFFe4v/q9776OXgQ2FKq+nuorCpjSggObt664mgZItk22Dfo5frHzXnD1uw3QNL+3bJXtYziYs9Jz4nV5xyTH6jII8Y75Ovun+eMBmMraiqY1LVePxcdY26Rtt+fH073Hworbsfe4LTtux02Pq7xjamXPa2pnOtZN5yPezpJK+xtfO3G78o5b3Ba7VNyG7HyGbcFr0161nUuVluktp+lxqtvrRXgN2jyq+Dx2KW99bdW0ji7t02vncdn22L6qvP1t2o5Zi8CGQtXXk65UYEILDmy23LbneNvjPa6f4xc77wXX1qmf9WLrrdv2r+mFWMv0BqN6TtdBwlzVZRDiDW69c66y4xk+X2XtwdpM0zSvDdjywvNpx9d+t+2Jnxe3gbi07+FyVPo9PCbeudTxaBqQe8fUSsuJ1xeW7YcdJzsX4WMlljeQjduVd9zittilvLap5YbrsuXG7TeutnOpato+7Vvb87a5vPNjfYBdv9YPxG1ej6Wu6bi89bVV0zq8thCff01v6hes4nav8vZ3nX0dvQhsKFR9PelKBSZUeGCzx+P5rWxwHD8vfKHU9PB3257wxS3+XeW94Kr04untp8qW7T3Pyp5r+2P7ED6Wa3nHJD4W3gCjaRBkj8fT9LMeCwck8TQ757Z+Kz1H22jnUz+H81vFj+tne05bheer6TnxNuk5bdPDsn1umydcXjifnRv97B27UkrtJz5mcbvSvtr+WtmxCB9TWTuL22U4LWx/9ljYZpqeH5a3TWFZ2w33zfqMks/XmOWdn7gPaDqGekxtInxMpfMYPj8sb31t1bSOLu3Ttjtu62HZc2x77DmqcH/1u7cdsxaBDYWqr6f6igKmVHhga3pxCsuWF1Y8j71AW8XL0mPxi13T4Mv20XuR1fzhesIK903Ptcf1s+1/10ECRS25dL3G15d+DwNTlwFx/Lg3rWmArnWF61PZMsIK+5Km6z/cF7vWw2rq26hxApseb5rmvZ5Y2Txt/Xw4T5f2adseVzhPvD49pn/D/dXv3v7MWgQ2FKq+nnSlAROaOLBRFEVRFEUR2FAqAhumR2CjKIqiKGrqIrChUAQ2TI/ARlEURVHU1EVgQ6EIbJgegY2iKIqiqKmLwIZCEdgwPQIbRVEURVFTF4ENhSKwYXoENoqiKIqipi4CGwpFYMP0CGwURVEURU1dBDYUisCG6RHYKGr9uuSP/Mepra/rPvVG93GKOqb+Ykv7EQIbCkVgw/QIbBS1funa+exT/GnUVtc1Hz5QXfvx17nTKOqo+t91P/InW9iPENhQKAIbpkdgS9Z5/3SR+zhFra6dC+pum9BGRaXAduWbnktoo9KlwKbh37aFNgIbCkVgw/QIbMl61d+/tzrnbe91p1FbXhbYCG1UVBbYCG1UsiywbVtoI7ChUAQ2TI/AliwFtoc85V2ENurYCgMboY0KKgxshDaqtcLAtk2hjcCGQhHYMD0CW7IssBHaCq0v/eV49dFHHg5qF9+D0FZgfesLbxutrr7o7FVQu+q8MwltS6m31Nf8GHVq3Y/Uw79v3/ve2xXaCGwoFIEN0yOwJSsMbIS2AsuC1Jil4Pbx/3n974S2IsqC1Jj1zXfsr755wcuP/E5oK7gsTI1U3zr11Oq6/1W/HttjSw9tBDYUisCG6S0osB38yPtGqRe8+j2roPaY51xMaCuxLERddNfxSoFNd9wIbUWVhair/uGFo5UC29UXn0NoW0LtBKlv/8RPjFIKbFe/5S3bE9oIbCgUgQ3TW1BgszA1Vu0942D1xBd9+MjvhLZCygJU/HbGsYrQVkxZgFKgmqIIbYXXTohSqBq7tiK0EdhQKAIbprfAwHbK6e8bpRTYznztZwltpdXUgU1FaCuipg5sKkJbwTVhYFMtPrQR2FAoAhumt8DAplA1dhHaCqo5Apvq/ScR2jKvOQKb6qq3/jmhrcSaOLCpvn3f+14f2v6/hfUjBDYUisCG6RHY1i5CWyE1R2D7+P9DWCug5ghs3GEruCYObNxhA/JEYMP0CGwb1anP5YNIsq+pAxthrZiaOrAR1gqvCQMbf8MG5IvAhukR2NYu7rAVUhaevE93HKqOfEokYa2ksvDkfbrjUMWnRC6odgKU9wmPQxSfEgmUgcCG6RHY1irCWkFlAWrMWn0PG2GttLIANWbxPWwLKgtRIxXfwwaUgcCG6S0wsHmf8DhE8SmRhVb8lsUh66P/9+GAdvGPEdYKrG994W2j1dUXnb0KaFe99QzC2lLqLfU1P0adWvcj9fDv2/e+9/aENRWBDYUisGF6CwxsYxXfw0YdU7p2LKgR1qigrvnwgSNBjbBGtdb/rvsRC2rbEtZUBDYUisCG6S0osB38yPtGqRe8+j2rgPaYZ/MBI1RUYWAjrFFBhYGNsEa1VhjYtiWsqQhsKBSBDdNbUGAbq1719+89EtQIa9RRZYGNsEZFZYGNsEYlywLbNoU1FYENhSKwYXoEtmSFgY2wRh1VunYIa5RTCmyENapTKbAt7UuxuxSBDYUisGF6BLZkWWAjrFHH1CV/5D9ObX1d96k3uo9T1DH1F1vajxDYUCgCG6ZHYEuWAhthjaIoiqIGLAIbCkVgw/QIbMk6758uch+nKIqiKGrNIrChUAQ2TI/ARlEURVHU1EVgQ6EIbJgegY2iKIqiqKmLwIZCEdgwPQIbRVEURVFTF4ENhSKwYXoENoqiKIqipi4CGwpFYMP0CGwURVEURU1dBDYUisCG6RHYKIqiKIqaughsKBSBDdMjsFEURVEUNXUR2FAoAhumR2CjKIqiKGrqIrChUAQ2TI/ARlEURVHU1EVgQ6EIbJgegY2iKIqiqKmLwIZCEdgwPQIbRVEURVFTF4ENhSKwYXoENoqiKIqipi4CGwpFYMP0CGwURVEURU1dBDYUisCG6RHYKIqiKIqaughsKBSBDdMjsFEURVEUNXUR2FAoAhum95knHe4w//NdfodKURRFURQ1ZGnMobGHxiBAYQhsmN4XX3i407zs//idKkVRFEVR1JClMYfGHhqDAIUhsGF6//XPhztNC23caaMoiqIoaozSGMPCmkpjEKAwBDbM49JXXN95UhRFURRFjV0aewAFIrBhPvpfLr01wf6mjaIoiqIoasjSGENjDe6soWAENgAAAADIFIENAAAAADJFYAMAAACATBHYAAAAACBTBDYAAAAAyBSBDQAAAAAyRWADAAAAgEwR2AAAAAAgUwQ2AAAAAMgUgQ0AAAAAMkVgAwAAAIBMEdgAAAAAIFMENgAAAADIFIENAAAAADJFYAMAAACATBHYAAAAACBLVfX/A12fWGGCs09oAAAAAElFTkSuQmCC)"
      ],
      "metadata": {
        "id": "KeGQGg6bePKG"
      }
    },
    {
      "cell_type": "code",
      "source": [
        "# Convolutional Neural Network (CNN)\n",
        "class MyCNN(nn.Module):\n",
        "    def __init__(self):\n",
        "        super(MyCNN, self).__init__()\n",
        "        self.activation = nn.ReLU()\n",
        "\n",
        "        # Start your implementation here\n",
        "        # self.cnn1 = ...\n",
        "        # self.maxpool1 = ...\n",
        "        \n",
        "        \n",
        "\n",
        "    def forward(self, x):\n",
        "        # x = ...\n",
        "        \n",
        "        return F.log_softmax(x, dim=0)\n",
        "\n",
        "model = MyCNN()\n",
        "\n",
        "if cuda:\n",
        "    model.cuda()\n",
        "\n",
        "optimizer = optim.SGD(model.parameters(), lr=0.01)\n",
        "\n",
        "print(model)"
      ],
      "metadata": {
        "id": "ohf32uSGMmmm"
      },
      "execution_count": null,
      "outputs": []
    },
    {
      "cell_type": "markdown",
      "metadata": {
        "id": "kvPiIEerSI5d"
      },
      "source": [
        "**Training / Validation**\n",
        "\n",
        "Last time, we implemented `train()` pipeline. Today, we'll assume that you're familiar with training process in *PyTorch*. Therefore, you don't need to change anything in `train()` and `validate()`.\n"
      ]
    },
    {
      "cell_type": "code",
      "execution_count": null,
      "metadata": {
        "id": "Y8FQo3qOSI5e"
      },
      "outputs": [],
      "source": [
        "# Training loop. Do not change.\n",
        "def train(model, optimizer, epoch, log_interval=100):\n",
        "    model.train()   # Set model to training mode\n",
        "    \n",
        "    for batch_idx, (data, target) in enumerate(train_loader):\n",
        "        if cuda:\n",
        "            data, target = data.cuda(), target.cuda()\n",
        "        data, target = Variable(data), Variable(target)\n",
        "\n",
        "        # Clear remaining gradients by setting to zero        \n",
        "        optimizer.zero_grad()\n",
        "\n",
        "        # Call forward() of model\n",
        "        output = model(data)\n",
        "        \n",
        "        # Compute loss (Negative Log Likelihood)\n",
        "        loss = F.nll_loss(output, target.detach())\n",
        "\n",
        "        # Compute gradients\n",
        "        loss.backward()\n",
        "\n",
        "        # Backpropagation by updating weights\n",
        "        optimizer.step()\n",
        "\n",
        "    ## CLI Visualization (Optional) ##\n",
        "        if (((batch_idx % log_interval) == 0) or (batch_idx == len(train_loader)-1)):\n",
        "            prog = 100. * (batch_idx+1) / len(train_loader)\n",
        "            L = int(prog/5)\n",
        "\n",
        "            stdout.write('\\rTrain Epoch: {} [{}/{} ({:.0f}%)]\\t|'.format(\n",
        "                epoch, (batch_idx+1) * len(data), len(train_loader.dataset),\n",
        "                prog) + (\"=\" * L + \">\" + \" \" * (20-L) + \"|\") )\n",
        "            \n",
        "            stdout.flush()\n",
        "    stdout.write(\"\\n\")\n",
        "    ## CLI Visualization End ##"
      ]
    },
    {
      "cell_type": "code",
      "execution_count": null,
      "metadata": {
        "id": "WYlOQPWtSI5j"
      },
      "outputs": [],
      "source": [
        "# Validation Loop. Do not change.\n",
        "def validate(loss_vector_CNN, accuracy_vector_CNN):\n",
        "    model.eval()\n",
        "\n",
        "    val_loss_CNN, correct_CNN = 0, 0\n",
        "\n",
        "    for data, target in validation_loader:\n",
        "        if cuda:\n",
        "            data, target = data.cuda(), target.cuda()\n",
        "        data, target = Variable(data), Variable(target)\n",
        "\n",
        "        output_CNN = model(data)\n",
        "\n",
        "        val_loss_CNN += F.nll_loss(output_CNN, target).item()\n",
        "        pred_CNN = output_CNN.data.max(1)[1] # get the index of the max log-probability\n",
        "        correct_CNN += pred_CNN.eq(target.data).cpu().sum()\n",
        "\n",
        "    val_loss_CNN /= len(validation_loader)\n",
        "    loss_vector_CNN.append(val_loss_CNN)\n",
        "\n",
        "    accuracy_CNN = 100. * correct_CNN / len(validation_loader.dataset)\n",
        "    accuracy_vector_CNN.append(accuracy_CNN)\n",
        "\n",
        "    print('Validation set (CNN): Average loss: {:.4f}, Accuracy: {}/{} ({:.0f}%)\\n'.format(\n",
        "        val_loss_CNN, correct_CNN, len(validation_loader.dataset), accuracy_CNN))"
      ]
    },
    {
      "cell_type": "markdown",
      "source": [
        "**Checkpointing**\n",
        "\n",
        "Instead, we will add an additional feature in our training pipeline. Since training takes long time, you may wish to *save weights* after training completes, so that you can *continue* later on. To **CONTINUE** training from checkpoint, we **MUST** save all information containing training status. To be specific, we must save our\n",
        "\n",
        "  - weights of our model \n",
        "  - optimizer parameters \n",
        "  - epochs\n",
        "\n",
        "Therefore, we will save all these information in a single python `dict()` object. A helper function `save_model(...)` which saves our trained `model`, `optimizer`, and `epoch` is defined for you."
      ],
      "metadata": {
        "id": "HTNTKoKG5plB"
      }
    },
    {
      "cell_type": "code",
      "source": [
        "def save_model(model_, optimizer_, epoch_, save_as=\"best.pt\"):\n",
        "    best_model = {'model':model_.state_dict(),\n",
        "                  'optimizer':optimizer_.state_dict(),\n",
        "                  'epoch':epoch_}\n",
        "\n",
        "    torch.save(best_model, save_as)\n",
        "\n",
        "# Usage : save_model(model, optimizer, epoch)"
      ],
      "metadata": {
        "id": "O-EAMLE48Bwn"
      },
      "execution_count": null,
      "outputs": []
    },
    {
      "cell_type": "markdown",
      "metadata": {
        "id": "P2-KllSwSI5m"
      },
      "source": [
        "**Train our `MyCNN`**\n",
        "\n",
        "In this part, we only train our `MyCNN` model with *MNIST dataset*. Since training takes long time, we will use `epoch = 10` today. We wish to save our trained model if **recent validation loss is the lowest**.\n",
        "\n",
        "> Task 2. Complete checkpointing\n",
        "\n",
        "-  After each epoch, save our trained model/optimizer/epoch only if recent validation loss is minimum. Change `save_condition` to achieve this (*one-liner*)."
      ]
    },
    {
      "cell_type": "code",
      "execution_count": null,
      "metadata": {
        "id": "QYv1XeYYSI5n"
      },
      "outputs": [],
      "source": [
        "%%time\n",
        "epochs = 10\n",
        "\n",
        "lossv_CNN, accv_CNN = [], []\n",
        "\n",
        "for epoch in range(1, epochs + 1):\n",
        "    train(model, optimizer, epoch)\n",
        "    validate(lossv_CNN, accv_CNN)\n",
        "\n",
        "    ## Task 2. Checkpointing ##\n",
        "    # Save your model only if recent validation loss is minimum\n",
        "\n",
        "    # Change this line\n",
        "    save_condition = False\n",
        "\n",
        "    if save_condition:\n",
        "        save_model(model, optimizer, epoch)\n",
        "        \n",
        "    ##\n"
      ]
    },
    {
      "cell_type": "markdown",
      "metadata": {
        "id": "D2xveJPKSI5q"
      },
      "source": [
        "**Visualization**\n",
        "\n",
        "Finally, let's see if our CNN is trained properly. If you have implemented correctly, final validation accuracy will be near **96 ~ 97%**.\n",
        "\n",
        "Same as last time, you will be asked to **SUBMIT two figures** and **best.pt** as proofs of your completion. "
      ]
    },
    {
      "cell_type": "markdown",
      "source": [
        "Find your `best.pt` file in file browser at the left in your workspace.\n",
        "\n",
        "![1.png](data:image/png;base64,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)"
      ],
      "metadata": {
        "id": "RHirSNyOFGfN"
      }
    },
    {
      "cell_type": "code",
      "execution_count": null,
      "metadata": {
        "id": "IEzKVf2BSI5r"
      },
      "outputs": [],
      "source": [
        "plt.figure(figsize=(5,3))\n",
        "plt.plot(np.arange(1,epochs+1), lossv_CNN, label=\"MyCNN\")\n",
        "plt.legend()\n",
        "plt.title('Validation Loss')\n",
        "\n",
        "plt.figure(figsize=(5,3))\n",
        "plt.plot(np.arange(1,epochs+1), accv_CNN, label=\"MyCNN\")\n",
        "plt.legend()\n",
        "plt.title('Validation Accuracy (%)');"
      ]
    },
    {
      "cell_type": "markdown",
      "source": [
        "**Loading pre-trained weights**\n",
        "\n",
        "  We saved our trained model and optimizer parameters in `best.pt` file. This section will show how to load pretrained weights."
      ],
      "metadata": {
        "id": "4OJ1THyt_dQ9"
      }
    },
    {
      "cell_type": "code",
      "source": [
        "best_model_path = \"./best.pt\"\n",
        "\n",
        "if os.path.exists(best_model_path): \n",
        "    best_model = torch.load(best_model_path)\n",
        "    model.load_state_dict(best_model['model'])\n",
        "    optimizer.load_state_dict(best_model['optimizer'])\n",
        "    last_epoch = best_model['epoch'] + 1"
      ],
      "metadata": {
        "id": "PaFF0Ef3AJ29"
      },
      "execution_count": null,
      "outputs": []
    }
  ],
  "metadata": {
    "accelerator": "GPU",
    "colab": {
      "collapsed_sections": [],
      "provenance": []
    },
    "kernelspec": {
      "display_name": "Python 3",
      "language": "python",
      "name": "python3"
    },
    "language_info": {
      "codemirror_mode": {
        "name": "ipython",
        "version": 3
      },
      "file_extension": ".py",
      "mimetype": "text/x-python",
      "name": "python",
      "nbconvert_exporter": "python",
      "pygments_lexer": "ipython3",
      "version": "3.8.3"
    }
  },
  "nbformat": 4,
  "nbformat_minor": 0
}