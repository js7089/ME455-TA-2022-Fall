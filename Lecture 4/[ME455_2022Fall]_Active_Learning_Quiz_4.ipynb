{
  "cells": [
    {
      "cell_type": "markdown",
      "metadata": {
        "id": "Mz4IYCpSSI4-"
      },
      "source": [
        "# Week 4. Active Learning Quiz 4"
      ]
    },
    {
      "cell_type": "code",
      "execution_count": 1,
      "metadata": {
        "id": "j2_cre7tSI4_"
      },
      "outputs": [],
      "source": [
        "import torch\n",
        "import torch.nn as nn\n",
        "import torch.nn.functional as F\n",
        "import torch.optim as optim\n",
        "from torchvision import datasets, transforms\n",
        "from torch.autograd import Variable\n",
        "\n",
        "import numpy as np\n",
        "import matplotlib.pyplot as plt\n",
        "\n",
        "from sys import stdout\n",
        "\n",
        "cuda = torch.cuda.is_available()"
      ]
    },
    {
      "cell_type": "markdown",
      "source": [
        "## Problem 1. CNN Implementation (75 + 5).\n",
        "\n",
        "(1) Implement **MyCNN** and **checkpointing** and submit your results (60).\n",
        "\n",
        "  Your submission **MUST** include\n",
        "\n",
        "* Validation loss graph\n",
        "* Validation accuracy graph\n",
        "* Checkpointed weight file **best.pt** (via KLMS)"
      ],
      "metadata": {
        "id": "kS1Ms-XKJ998"
      }
    },
    {
      "cell_type": "markdown",
      "source": [
        "(Your Answer for Problem 1. Put validation results here.)\n",
        "\n",
        "---\n"
      ],
      "metadata": {
        "id": "tUaunV2uKyKZ"
      }
    },
    {
      "cell_type": "markdown",
      "source": [
        "(2) Let's think of `MyMLP` of last class."
      ],
      "metadata": {
        "id": "-d8sVt5AMPDM"
      }
    },
    {
      "cell_type": "code",
      "execution_count": 2,
      "metadata": {
        "id": "5iLgqFI6SI5F"
      },
      "outputs": [],
      "source": [
        "# Multi Layer Perceptron (MLP)\n",
        "class MyMLP(nn.Module):\n",
        "    def __init__(self):\n",
        "        super(MyMLP, self).__init__()\n",
        "        self.fc1 = nn.Linear(784,50)                   # nn.Linear(,)\n",
        "        self.fc1_drop = nn.Dropout(0.2)                # nn.Dropout()\n",
        "        self.fc2 = nn.Linear(50,50)                    # nn.Linear(,)\n",
        "        self.fc2_drop = nn.Dropout(0.2)                # nn.Dropout()\n",
        "        self.fc3 = nn.Linear(50, 10)                   # nn.Linear(,)\n",
        "\n",
        "    def forward(self, x):\n",
        "        x = x.view(-1, 28*28)\n",
        "        x = F.tanh(self.fc1(x))\n",
        "        x = self.fc1_drop(x)\n",
        "        x = F.tanh(self.fc2(x))\n",
        "        x = self.fc2_drop(x)\n",
        "\n",
        "        return F.log_softmax(self.fc3(x), dim=0)"
      ]
    },
    {
      "cell_type": "markdown",
      "source": [
        "Below code section will show number of weights of `MyMLP`. Try to explain the answer for full credits."
      ],
      "metadata": {
        "id": "CpPvmZaoR_d-"
      }
    },
    {
      "cell_type": "code",
      "source": [
        "# You may run this to get correct answer.\n",
        "# However, you MUST explain the answer for full credits.\n",
        "model_MLP = MyMLP()\n",
        "\n",
        "num_weights = 0\n",
        "for p in model_MLP.parameters():\n",
        "    num_weights += p.reshape(-1).size(0)\n",
        "\n",
        "print(\"Number of weights(MyMLP) = %d\" %num_weights)"
      ],
      "metadata": {
        "id": "Rqy3m-cdQFiN",
        "colab": {
          "base_uri": "https://localhost:8080/"
        },
        "outputId": "46487df5-0ee7-448c-d509-14721ff632a5"
      },
      "execution_count": 3,
      "outputs": [
        {
          "output_type": "stream",
          "name": "stdout",
          "text": [
            "Number of weights(MyMLP) = 42310\n"
          ]
        }
      ]
    },
    {
      "cell_type": "markdown",
      "source": [
        "* What is the total number of parameters (weights) of `MyMLP` and `MyCNN`? Briefly explain your answer; *just a single line formula would be enough*. (**15**).\n",
        "\n",
        "* Compare between two. Which one is smaller? Which one showed better results? Discuss possible reasons. (**+5 Extra**)\n",
        "\n",
        "  You may refer to validation result from last practice session below.\n",
        "\n",
        "\n",
        "![q1.png](data:image/png;base64,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)\n"
      ],
      "metadata": {
        "id": "ZYqhJJSyNbgI"
      }
    },
    {
      "cell_type": "markdown",
      "source": [
        "## Problem 2. Implement custom Convolution with numpy (25).\n"
      ],
      "metadata": {
        "id": "rKaDALUMyhrR"
      }
    },
    {
      "cell_type": "markdown",
      "source": [
        "In this section, you will be asked to implement convolution using `numpy` package. We will ignore batch and channel dimensions, so all inputs and outputs are 2-dimensional arrays of size (width) × (height).\n",
        "\n",
        "* Note that all inputs and outputs are `np.ndarray`s, not `torch.tensor`s.\n",
        "\n",
        "* Assume no stride, padding, and dilations."
      ],
      "metadata": {
        "id": "_Gr5oBLy1NYp"
      }
    },
    {
      "cell_type": "code",
      "source": [
        "def conv2d_numpy(input_array, kernel):\n",
        "    input_height, input_width = input_array.shape\n",
        "    kernel_height, kernel_width = kernel.shape\n",
        "\n",
        "    ## 2-1. Output Dimensions ##\n",
        "    output_height = NotImplemented\n",
        "    output_width = NotImplemented\n",
        "\n",
        "    # in numpy, indexing is [row, col].\n",
        "    result = np.zeros([output_height, output_width], dtype=np.float32)\n",
        "    ## 2-1 End ##\n",
        "\n",
        "    for y in range(output_height):\n",
        "        for x in range(output_width):\n",
        "            input_submatrix = input_array[y:y+kernel_height, x:x+kernel_width]\n",
        "\n",
        "            ## 2-2. Convolution of submatrix with kernel ##\n",
        "            result_xy = NotImplemented\n",
        "\n",
        "            ## 2-2 End ## \n",
        "            result[y, x] = result_xy\n",
        "    \n",
        "    return result"
      ],
      "metadata": {
        "id": "8hqqw1K-1VT0"
      },
      "execution_count": 4,
      "outputs": []
    },
    {
      "cell_type": "markdown",
      "source": [
        "Below tests will help you check your codes."
      ],
      "metadata": {
        "id": "WWjH4PTNeGQd"
      }
    },
    {
      "cell_type": "code",
      "source": [
        "input_arrays = [np.array([[1, 2],\n",
        "                          [3, 4],\n",
        "                          [5, 6]], dtype=np.float32),\n",
        "                np.array([[1, 2, 3],\n",
        "                          [4, 5, 6],\n",
        "                          [7, 8, 9],\n",
        "                          [10, 11, 12]], dtype=np.float32),\n",
        "                np.array([[2, 4, 3, 0],\n",
        "                          [-3, -1, 0, 5]], dtype=np.float32)]\n",
        "\n",
        "kernels = [np.array([[2], [3]], dtype=np.float32),\n",
        "           np.array([[1, -1], [1, 1]], dtype=np.float32),\n",
        "           np.array([[2, 1], [3, 2]], dtype=np.float32)]\n",
        "\n",
        "desired_outputs = [np.array([[11., 16.],\n",
        "                             [21., 26.]], dtype=np.float32),\n",
        "                   np.array([[ 8., 10.],\n",
        "                             [14., 16.],\n",
        "                             [20., 22.]], dtype=np.float32),\n",
        "                   np.array([[-3.,  8., 16.]], dtype=np.float32)]\n",
        "\n",
        "for i in range(len(input_arrays)):\n",
        "    print(\"Test %d.\" %(i+1))\n",
        "\n",
        "    try:\n",
        "        out_myconv = conv2d_numpy(input_arrays[i], kernels[i])\n",
        "    except Exception as e:\n",
        "        print(\"FAIL\")\n",
        "        break\n",
        "\n",
        "    if(out_myconv.shape == desired_outputs[i].shape):\n",
        "        print(\"size : correct\", end=\" / \")\n",
        "        if(np.prod(out_myconv == desired_outputs[i])):\n",
        "            print(\"value : correct\", end=\"\\t\")\n",
        "            print(\"pass\")\n",
        "        else:\n",
        "            print(\"value : incorrect\", end=\"\\t\")\n",
        "            print(\"fail\")\n",
        "            print(\"Desired :\\n\", desired_outputs[i])\n",
        "            print(\"Your output :\\n\", out_myconv)\n",
        "            break\n",
        "\n",
        "    else:\n",
        "        print(\"size : incorrect.\\tfail\")\n",
        "        print(\"Desired shape :\\n\", desired_outputs[i].shape)\n",
        "        print(\"Your output shape :\\n\", out_myconv.shape)"
      ],
      "metadata": {
        "colab": {
          "base_uri": "https://localhost:8080/"
        },
        "id": "gVooBwhhYZu0",
        "outputId": "7b3f2bc7-9917-4775-c327-356296ea7844"
      },
      "execution_count": 6,
      "outputs": [
        {
          "output_type": "stream",
          "name": "stdout",
          "text": [
            "Test 1.\n",
            "FAIL\n"
          ]
        }
      ]
    }
  ],
  "metadata": {
    "accelerator": "GPU",
    "colab": {
      "collapsed_sections": [],
      "provenance": []
    },
    "kernelspec": {
      "display_name": "Python 3",
      "language": "python",
      "name": "python3"
    },
    "language_info": {
      "codemirror_mode": {
        "name": "ipython",
        "version": 3
      },
      "file_extension": ".py",
      "mimetype": "text/x-python",
      "name": "python",
      "nbconvert_exporter": "python",
      "pygments_lexer": "ipython3",
      "version": "3.8.3"
    }
  },
  "nbformat": 4,
  "nbformat_minor": 0
}