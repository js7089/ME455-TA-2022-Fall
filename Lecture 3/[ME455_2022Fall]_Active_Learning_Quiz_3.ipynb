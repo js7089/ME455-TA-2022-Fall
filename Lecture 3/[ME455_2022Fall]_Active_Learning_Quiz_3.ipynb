{
  "cells": [
    {
      "cell_type": "markdown",
      "metadata": {
        "id": "Mz4IYCpSSI4-"
      },
      "source": [
        "# Week 3. Active Learning Quiz 3"
      ]
    },
    {
      "cell_type": "code",
      "execution_count": null,
      "metadata": {
        "id": "j2_cre7tSI4_"
      },
      "outputs": [],
      "source": [
        "import torch\n",
        "import torch.nn as nn\n",
        "import torch.nn.functional as F\n",
        "\n",
        "cuda = torch.cuda.is_available()\n",
        "print('Using PyTorch version:', torch.__version__, 'CUDA:', cuda)"
      ]
    },
    {
      "cell_type": "markdown",
      "metadata": {
        "id": "-lDqpyifSI5F"
      },
      "source": [
        "## 1. Validation Results (70)\n",
        "\n",
        "* Complete until 2-3 by yourself.\n",
        "* Please add your validation loss and accuracy graph. \n",
        "* What was final **validation accuracy** of `MySLP` and `MyMLP` **each**? Which was higher?"
      ]
    },
    {
      "cell_type": "markdown",
      "source": [
        "Answer 1.\n",
        "\n",
        "(Your answer here)\n",
        "\n",
        "---"
      ],
      "metadata": {
        "id": "_4teC9y2-GMC"
      }
    },
    {
      "cell_type": "markdown",
      "source": [
        "## 2. MLP Basics (30)\n",
        "\n",
        "Suppose we have custom SLP class as follows. "
      ],
      "metadata": {
        "id": "t6ElCXrTAJLw"
      }
    },
    {
      "cell_type": "code",
      "execution_count": null,
      "metadata": {
        "id": "iLPWAVvKSI5L"
      },
      "outputs": [],
      "source": [
        "class MySLP2(nn.Module):\n",
        "    def __init__(self):\n",
        "        super(MySLP2, self).__init__()\n",
        "        self.fc = nn.Linear(40, 20)\n",
        "\n",
        "    def forward(self, x):\n",
        "        x = x.view(-1, 40)\n",
        "\n",
        "        return F.log_softmax(self.fc(x), dim=0)\n",
        "\n",
        "\n",
        "model_SLP = MySLP()\n",
        "\n",
        "if cuda:\n",
        "    model_SLP.cuda()\n"
      ]
    },
    {
      "cell_type": "markdown",
      "source": [
        "2-1) What is the number of weights of MySLP2? **(bias = True)**\n",
        "\n"
      ],
      "metadata": {
        "id": "fLyMsbzNE_tv"
      }
    },
    {
      "cell_type": "markdown",
      "source": [
        "2-1) (Your answer here)\n",
        "\n",
        "---"
      ],
      "metadata": {
        "id": "5HF9XjaSswAD"
      }
    },
    {
      "cell_type": "markdown",
      "source": [
        "2-2) Express number of weights of a fully connected layer in terms of `input_dimension` `out_dimension` when `bias=False`.\n",
        "\n",
        "2-3) Repeat 2-2 when `bias=True`."
      ],
      "metadata": {
        "id": "K_zQjMAFstGs"
      }
    },
    {
      "cell_type": "code",
      "execution_count": null,
      "metadata": {
        "id": "8MlxmObrSI5S"
      },
      "outputs": [],
      "source": [
        "# Problem 2-2.\n",
        "def number_of_params_nobias(input_dimension, output_dimension):\n",
        "    pass\n",
        "\n",
        "# Problem 2-3.\n",
        "def number_of_params_withbias(input_dimension, output_dimension):\n",
        "    pass\n"
      ]
    }
  ],
  "metadata": {
    "accelerator": "GPU",
    "colab": {
      "collapsed_sections": [],
      "provenance": []
    },
    "kernelspec": {
      "display_name": "Python 3",
      "language": "python",
      "name": "python3"
    },
    "language_info": {
      "codemirror_mode": {
        "name": "ipython",
        "version": 3
      },
      "file_extension": ".py",
      "mimetype": "text/x-python",
      "name": "python",
      "nbconvert_exporter": "python",
      "pygments_lexer": "ipython3",
      "version": "3.8.3"
    }
  },
  "nbformat": 4,
  "nbformat_minor": 0
}